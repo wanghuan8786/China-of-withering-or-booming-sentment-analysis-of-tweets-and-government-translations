{
  "nbformat": 4,
  "nbformat_minor": 0,
  "metadata": {
    "colab": {
      "provenance": []
    },
    "kernelspec": {
      "name": "python3",
      "display_name": "Python 3"
    },
    "language_info": {
      "name": "python"
    }
  },
  "cells": [
    {
      "cell_type": "code",
      "execution_count": null,
      "metadata": {
        "id": "FCS2YxLKHxRQ"
      },
      "outputs": [],
      "source": []
    },
    {
      "cell_type": "markdown",
      "source": [
        "# Text cleaning in Python with NeatText\n"
      ],
      "metadata": {
        "id": "Qv3fBYU0HzHx"
      }
    },
    {
      "cell_type": "markdown",
      "source": [
        "Pkgs\n",
        "  nltk\n",
        "  spacy\n",
        "  ftfy\n",
        "  contractions\n",
        "  regex\n",
        "  neattext\n",
        "  clean_text\n",
        "  texthero\n",
        "  normalize\n",
        "  textacy\n",
        "  etc\n",
        "Basic Task\n",
        "  remove stopwords\n",
        "  remove punctuations\n",
        "  special characters\n",
        "  noise\n",
        "  contractions\n",
        "Installation\n",
        "pip install neattext"
      ],
      "metadata": {
        "id": "IitgpcGYIcG7"
      }
    },
    {
      "cell_type": "code",
      "source": [
        "# Load our pkgs\n",
        "import pandas as pd\n",
        "import numpy as np"
      ],
      "metadata": {
        "id": "OIQzp2SZIU2m"
      },
      "execution_count": null,
      "outputs": []
    },
    {
      "cell_type": "code",
      "source": [
        "# Load dataset\n",
        "df=pd.read_csv('/content/drive/MyDrive/covid-19 China until2023-01-10 since2022-12-01.csv')\n",
        "df=df.astype(str)"
      ],
      "metadata": {
        "id": "x_-FbpdIIU55"
      },
      "execution_count": null,
      "outputs": []
    },
    {
      "cell_type": "code",
      "source": [
        "df.head()"
      ],
      "metadata": {
        "colab": {
          "base_uri": "https://localhost:8080/",
          "height": 250
        },
        "id": "XLBjRu96IU9s",
        "outputId": "4a00b4fe-558b-420c-dc39-f9f5749551e8"
      },
      "execution_count": null,
      "outputs": [
        {
          "output_type": "execute_result",
          "data": {
            "text/plain": [
              "  Unnamed: 0                       Date             User  \\\n",
              "0          0  2023-01-09 23:55:12+00:00    aldotjahjadi8   \n",
              "1          1  2023-01-09 23:52:06+00:00  KarenDa29372310   \n",
              "2          2  2023-01-09 23:51:07+00:00         typo_cat   \n",
              "3          3  2023-01-09 23:51:03+00:00      THISDAYLIVE   \n",
              "4          4  2023-01-09 23:48:53+00:00     Apont3Andr3s   \n",
              "\n",
              "                                               Tweet  \n",
              "0  With China shifted their Covid 19 Policy, a lo...  \n",
              "1  @SpiritofHo 100% FACTS.\\n\\nThe United States h...  \n",
              "2  Not Long Now Before Covid is Endemic in China\\...  \n",
              "3  LET’S MAKE EXTRA EFFORT TO PULL THROUGH Adapta...  \n",
              "4  China pide a OMS imparcialidad sobre el Covid-...  "
            ],
            "text/html": [
              "\n",
              "  <div id=\"df-c68de99d-fd96-406a-a8da-3799293ada8a\">\n",
              "    <div class=\"colab-df-container\">\n",
              "      <div>\n",
              "<style scoped>\n",
              "    .dataframe tbody tr th:only-of-type {\n",
              "        vertical-align: middle;\n",
              "    }\n",
              "\n",
              "    .dataframe tbody tr th {\n",
              "        vertical-align: top;\n",
              "    }\n",
              "\n",
              "    .dataframe thead th {\n",
              "        text-align: right;\n",
              "    }\n",
              "</style>\n",
              "<table border=\"1\" class=\"dataframe\">\n",
              "  <thead>\n",
              "    <tr style=\"text-align: right;\">\n",
              "      <th></th>\n",
              "      <th>Unnamed: 0</th>\n",
              "      <th>Date</th>\n",
              "      <th>User</th>\n",
              "      <th>Tweet</th>\n",
              "    </tr>\n",
              "  </thead>\n",
              "  <tbody>\n",
              "    <tr>\n",
              "      <th>0</th>\n",
              "      <td>0</td>\n",
              "      <td>2023-01-09 23:55:12+00:00</td>\n",
              "      <td>aldotjahjadi8</td>\n",
              "      <td>With China shifted their Covid 19 Policy, a lo...</td>\n",
              "    </tr>\n",
              "    <tr>\n",
              "      <th>1</th>\n",
              "      <td>1</td>\n",
              "      <td>2023-01-09 23:52:06+00:00</td>\n",
              "      <td>KarenDa29372310</td>\n",
              "      <td>@SpiritofHo 100% FACTS.\\n\\nThe United States h...</td>\n",
              "    </tr>\n",
              "    <tr>\n",
              "      <th>2</th>\n",
              "      <td>2</td>\n",
              "      <td>2023-01-09 23:51:07+00:00</td>\n",
              "      <td>typo_cat</td>\n",
              "      <td>Not Long Now Before Covid is Endemic in China\\...</td>\n",
              "    </tr>\n",
              "    <tr>\n",
              "      <th>3</th>\n",
              "      <td>3</td>\n",
              "      <td>2023-01-09 23:51:03+00:00</td>\n",
              "      <td>THISDAYLIVE</td>\n",
              "      <td>LET’S MAKE EXTRA EFFORT TO PULL THROUGH Adapta...</td>\n",
              "    </tr>\n",
              "    <tr>\n",
              "      <th>4</th>\n",
              "      <td>4</td>\n",
              "      <td>2023-01-09 23:48:53+00:00</td>\n",
              "      <td>Apont3Andr3s</td>\n",
              "      <td>China pide a OMS imparcialidad sobre el Covid-...</td>\n",
              "    </tr>\n",
              "  </tbody>\n",
              "</table>\n",
              "</div>\n",
              "      <button class=\"colab-df-convert\" onclick=\"convertToInteractive('df-c68de99d-fd96-406a-a8da-3799293ada8a')\"\n",
              "              title=\"Convert this dataframe to an interactive table.\"\n",
              "              style=\"display:none;\">\n",
              "        \n",
              "  <svg xmlns=\"http://www.w3.org/2000/svg\" height=\"24px\"viewBox=\"0 0 24 24\"\n",
              "       width=\"24px\">\n",
              "    <path d=\"M0 0h24v24H0V0z\" fill=\"none\"/>\n",
              "    <path d=\"M18.56 5.44l.94 2.06.94-2.06 2.06-.94-2.06-.94-.94-2.06-.94 2.06-2.06.94zm-11 1L8.5 8.5l.94-2.06 2.06-.94-2.06-.94L8.5 2.5l-.94 2.06-2.06.94zm10 10l.94 2.06.94-2.06 2.06-.94-2.06-.94-.94-2.06-.94 2.06-2.06.94z\"/><path d=\"M17.41 7.96l-1.37-1.37c-.4-.4-.92-.59-1.43-.59-.52 0-1.04.2-1.43.59L10.3 9.45l-7.72 7.72c-.78.78-.78 2.05 0 2.83L4 21.41c.39.39.9.59 1.41.59.51 0 1.02-.2 1.41-.59l7.78-7.78 2.81-2.81c.8-.78.8-2.07 0-2.86zM5.41 20L4 18.59l7.72-7.72 1.47 1.35L5.41 20z\"/>\n",
              "  </svg>\n",
              "      </button>\n",
              "      \n",
              "  <style>\n",
              "    .colab-df-container {\n",
              "      display:flex;\n",
              "      flex-wrap:wrap;\n",
              "      gap: 12px;\n",
              "    }\n",
              "\n",
              "    .colab-df-convert {\n",
              "      background-color: #E8F0FE;\n",
              "      border: none;\n",
              "      border-radius: 50%;\n",
              "      cursor: pointer;\n",
              "      display: none;\n",
              "      fill: #1967D2;\n",
              "      height: 32px;\n",
              "      padding: 0 0 0 0;\n",
              "      width: 32px;\n",
              "    }\n",
              "\n",
              "    .colab-df-convert:hover {\n",
              "      background-color: #E2EBFA;\n",
              "      box-shadow: 0px 1px 2px rgba(60, 64, 67, 0.3), 0px 1px 3px 1px rgba(60, 64, 67, 0.15);\n",
              "      fill: #174EA6;\n",
              "    }\n",
              "\n",
              "    [theme=dark] .colab-df-convert {\n",
              "      background-color: #3B4455;\n",
              "      fill: #D2E3FC;\n",
              "    }\n",
              "\n",
              "    [theme=dark] .colab-df-convert:hover {\n",
              "      background-color: #434B5C;\n",
              "      box-shadow: 0px 1px 3px 1px rgba(0, 0, 0, 0.15);\n",
              "      filter: drop-shadow(0px 1px 2px rgba(0, 0, 0, 0.3));\n",
              "      fill: #FFFFFF;\n",
              "    }\n",
              "  </style>\n",
              "\n",
              "      <script>\n",
              "        const buttonEl =\n",
              "          document.querySelector('#df-c68de99d-fd96-406a-a8da-3799293ada8a button.colab-df-convert');\n",
              "        buttonEl.style.display =\n",
              "          google.colab.kernel.accessAllowed ? 'block' : 'none';\n",
              "\n",
              "        async function convertToInteractive(key) {\n",
              "          const element = document.querySelector('#df-c68de99d-fd96-406a-a8da-3799293ada8a');\n",
              "          const dataTable =\n",
              "            await google.colab.kernel.invokeFunction('convertToInteractive',\n",
              "                                                     [key], {});\n",
              "          if (!dataTable) return;\n",
              "\n",
              "          const docLinkHtml = 'Like what you see? Visit the ' +\n",
              "            '<a target=\"_blank\" href=https://colab.research.google.com/notebooks/data_table.ipynb>data table notebook</a>'\n",
              "            + ' to learn more about interactive tables.';\n",
              "          element.innerHTML = '';\n",
              "          dataTable['output_type'] = 'display_data';\n",
              "          await google.colab.output.renderOutput(dataTable, element);\n",
              "          const docLink = document.createElement('div');\n",
              "          docLink.innerHTML = docLinkHtml;\n",
              "          element.appendChild(docLink);\n",
              "        }\n",
              "      </script>\n",
              "    </div>\n",
              "  </div>\n",
              "  "
            ]
          },
          "metadata": {},
          "execution_count": 77
        }
      ]
    },
    {
      "cell_type": "code",
      "source": [
        "df.columns"
      ],
      "metadata": {
        "colab": {
          "base_uri": "https://localhost:8080/"
        },
        "id": "y13kPMg4IVBS",
        "outputId": "fcc37745-5871-4404-c6ae-8962ea5694e7"
      },
      "execution_count": null,
      "outputs": [
        {
          "output_type": "execute_result",
          "data": {
            "text/plain": [
              "Index(['Unnamed: 0', 'Date', 'User', 'Tweet'], dtype='object')"
            ]
          },
          "metadata": {},
          "execution_count": 78
        }
      ]
    },
    {
      "cell_type": "code",
      "source": [
        "df=df[['Tweet','Date','User']]"
      ],
      "metadata": {
        "id": "dVyRHlKuIVEk"
      },
      "execution_count": null,
      "outputs": []
    },
    {
      "cell_type": "code",
      "source": [
        "df.head()"
      ],
      "metadata": {
        "colab": {
          "base_uri": "https://localhost:8080/",
          "height": 206
        },
        "id": "OxZWsf6sIVIH",
        "outputId": "e01c3c5d-76a9-4efd-b5c1-7b5219bd9907"
      },
      "execution_count": null,
      "outputs": [
        {
          "output_type": "execute_result",
          "data": {
            "text/plain": [
              "                                               Tweet  \\\n",
              "0  With China shifted their Covid 19 Policy, a lo...   \n",
              "1  @SpiritofHo 100% FACTS.\\n\\nThe United States h...   \n",
              "2  Not Long Now Before Covid is Endemic in China\\...   \n",
              "3  LET’S MAKE EXTRA EFFORT TO PULL THROUGH Adapta...   \n",
              "4  China pide a OMS imparcialidad sobre el Covid-...   \n",
              "\n",
              "                        Date             User  \n",
              "0  2023-01-09 23:55:12+00:00    aldotjahjadi8  \n",
              "1  2023-01-09 23:52:06+00:00  KarenDa29372310  \n",
              "2  2023-01-09 23:51:07+00:00         typo_cat  \n",
              "3  2023-01-09 23:51:03+00:00      THISDAYLIVE  \n",
              "4  2023-01-09 23:48:53+00:00     Apont3Andr3s  "
            ],
            "text/html": [
              "\n",
              "  <div id=\"df-2f45db69-85e2-4f5b-9d48-46130741665e\">\n",
              "    <div class=\"colab-df-container\">\n",
              "      <div>\n",
              "<style scoped>\n",
              "    .dataframe tbody tr th:only-of-type {\n",
              "        vertical-align: middle;\n",
              "    }\n",
              "\n",
              "    .dataframe tbody tr th {\n",
              "        vertical-align: top;\n",
              "    }\n",
              "\n",
              "    .dataframe thead th {\n",
              "        text-align: right;\n",
              "    }\n",
              "</style>\n",
              "<table border=\"1\" class=\"dataframe\">\n",
              "  <thead>\n",
              "    <tr style=\"text-align: right;\">\n",
              "      <th></th>\n",
              "      <th>Tweet</th>\n",
              "      <th>Date</th>\n",
              "      <th>User</th>\n",
              "    </tr>\n",
              "  </thead>\n",
              "  <tbody>\n",
              "    <tr>\n",
              "      <th>0</th>\n",
              "      <td>With China shifted their Covid 19 Policy, a lo...</td>\n",
              "      <td>2023-01-09 23:55:12+00:00</td>\n",
              "      <td>aldotjahjadi8</td>\n",
              "    </tr>\n",
              "    <tr>\n",
              "      <th>1</th>\n",
              "      <td>@SpiritofHo 100% FACTS.\\n\\nThe United States h...</td>\n",
              "      <td>2023-01-09 23:52:06+00:00</td>\n",
              "      <td>KarenDa29372310</td>\n",
              "    </tr>\n",
              "    <tr>\n",
              "      <th>2</th>\n",
              "      <td>Not Long Now Before Covid is Endemic in China\\...</td>\n",
              "      <td>2023-01-09 23:51:07+00:00</td>\n",
              "      <td>typo_cat</td>\n",
              "    </tr>\n",
              "    <tr>\n",
              "      <th>3</th>\n",
              "      <td>LET’S MAKE EXTRA EFFORT TO PULL THROUGH Adapta...</td>\n",
              "      <td>2023-01-09 23:51:03+00:00</td>\n",
              "      <td>THISDAYLIVE</td>\n",
              "    </tr>\n",
              "    <tr>\n",
              "      <th>4</th>\n",
              "      <td>China pide a OMS imparcialidad sobre el Covid-...</td>\n",
              "      <td>2023-01-09 23:48:53+00:00</td>\n",
              "      <td>Apont3Andr3s</td>\n",
              "    </tr>\n",
              "  </tbody>\n",
              "</table>\n",
              "</div>\n",
              "      <button class=\"colab-df-convert\" onclick=\"convertToInteractive('df-2f45db69-85e2-4f5b-9d48-46130741665e')\"\n",
              "              title=\"Convert this dataframe to an interactive table.\"\n",
              "              style=\"display:none;\">\n",
              "        \n",
              "  <svg xmlns=\"http://www.w3.org/2000/svg\" height=\"24px\"viewBox=\"0 0 24 24\"\n",
              "       width=\"24px\">\n",
              "    <path d=\"M0 0h24v24H0V0z\" fill=\"none\"/>\n",
              "    <path d=\"M18.56 5.44l.94 2.06.94-2.06 2.06-.94-2.06-.94-.94-2.06-.94 2.06-2.06.94zm-11 1L8.5 8.5l.94-2.06 2.06-.94-2.06-.94L8.5 2.5l-.94 2.06-2.06.94zm10 10l.94 2.06.94-2.06 2.06-.94-2.06-.94-.94-2.06-.94 2.06-2.06.94z\"/><path d=\"M17.41 7.96l-1.37-1.37c-.4-.4-.92-.59-1.43-.59-.52 0-1.04.2-1.43.59L10.3 9.45l-7.72 7.72c-.78.78-.78 2.05 0 2.83L4 21.41c.39.39.9.59 1.41.59.51 0 1.02-.2 1.41-.59l7.78-7.78 2.81-2.81c.8-.78.8-2.07 0-2.86zM5.41 20L4 18.59l7.72-7.72 1.47 1.35L5.41 20z\"/>\n",
              "  </svg>\n",
              "      </button>\n",
              "      \n",
              "  <style>\n",
              "    .colab-df-container {\n",
              "      display:flex;\n",
              "      flex-wrap:wrap;\n",
              "      gap: 12px;\n",
              "    }\n",
              "\n",
              "    .colab-df-convert {\n",
              "      background-color: #E8F0FE;\n",
              "      border: none;\n",
              "      border-radius: 50%;\n",
              "      cursor: pointer;\n",
              "      display: none;\n",
              "      fill: #1967D2;\n",
              "      height: 32px;\n",
              "      padding: 0 0 0 0;\n",
              "      width: 32px;\n",
              "    }\n",
              "\n",
              "    .colab-df-convert:hover {\n",
              "      background-color: #E2EBFA;\n",
              "      box-shadow: 0px 1px 2px rgba(60, 64, 67, 0.3), 0px 1px 3px 1px rgba(60, 64, 67, 0.15);\n",
              "      fill: #174EA6;\n",
              "    }\n",
              "\n",
              "    [theme=dark] .colab-df-convert {\n",
              "      background-color: #3B4455;\n",
              "      fill: #D2E3FC;\n",
              "    }\n",
              "\n",
              "    [theme=dark] .colab-df-convert:hover {\n",
              "      background-color: #434B5C;\n",
              "      box-shadow: 0px 1px 3px 1px rgba(0, 0, 0, 0.15);\n",
              "      filter: drop-shadow(0px 1px 2px rgba(0, 0, 0, 0.3));\n",
              "      fill: #FFFFFF;\n",
              "    }\n",
              "  </style>\n",
              "\n",
              "      <script>\n",
              "        const buttonEl =\n",
              "          document.querySelector('#df-2f45db69-85e2-4f5b-9d48-46130741665e button.colab-df-convert');\n",
              "        buttonEl.style.display =\n",
              "          google.colab.kernel.accessAllowed ? 'block' : 'none';\n",
              "\n",
              "        async function convertToInteractive(key) {\n",
              "          const element = document.querySelector('#df-2f45db69-85e2-4f5b-9d48-46130741665e');\n",
              "          const dataTable =\n",
              "            await google.colab.kernel.invokeFunction('convertToInteractive',\n",
              "                                                     [key], {});\n",
              "          if (!dataTable) return;\n",
              "\n",
              "          const docLinkHtml = 'Like what you see? Visit the ' +\n",
              "            '<a target=\"_blank\" href=https://colab.research.google.com/notebooks/data_table.ipynb>data table notebook</a>'\n",
              "            + ' to learn more about interactive tables.';\n",
              "          element.innerHTML = '';\n",
              "          dataTable['output_type'] = 'display_data';\n",
              "          await google.colab.output.renderOutput(dataTable, element);\n",
              "          const docLink = document.createElement('div');\n",
              "          docLink.innerHTML = docLinkHtml;\n",
              "          element.appendChild(docLink);\n",
              "        }\n",
              "      </script>\n",
              "    </div>\n",
              "  </div>\n",
              "  "
            ]
          },
          "metadata": {},
          "execution_count": 80
        }
      ]
    },
    {
      "cell_type": "code",
      "source": [
        "df.iloc[5]['Tweet']"
      ],
      "metadata": {
        "colab": {
          "base_uri": "https://localhost:8080/",
          "height": 53
        },
        "id": "LXZWmlipIVLO",
        "outputId": "6854cbce-ea33-4843-e213-71ed8fa470db"
      },
      "execution_count": null,
      "outputs": [
        {
          "output_type": "execute_result",
          "data": {
            "text/plain": [
              "'The US says it requires all travelers from China to show negative Covid-19 test results. The new rules became effective on January 5th, 2023.\\n#China #Covid #Pandemic #whitelungs #CM2 #Omicron #Delta https://t.co/thjrdlLDSs'"
            ],
            "application/vnd.google.colaboratory.intrinsic+json": {
              "type": "string"
            }
          },
          "metadata": {},
          "execution_count": 81
        }
      ]
    },
    {
      "cell_type": "code",
      "source": [
        "# Remove special characters\n",
        "# Remove userhandles/mentions\n",
        "# Remove hashtags\n",
        "# Remove stopwords/puct"
      ],
      "metadata": {
        "id": "TQdrtOLsIVOn"
      },
      "execution_count": null,
      "outputs": []
    },
    {
      "cell_type": "code",
      "source": [
        "!pip install neattext"
      ],
      "metadata": {
        "colab": {
          "base_uri": "https://localhost:8080/"
        },
        "id": "mCRwi-40IVRs",
        "outputId": "e625f1c3-6b32-4014-c8ee-99f0bdde7881"
      },
      "execution_count": null,
      "outputs": [
        {
          "output_type": "stream",
          "name": "stdout",
          "text": [
            "Looking in indexes: https://pypi.org/simple, https://us-python.pkg.dev/colab-wheels/public/simple/\n",
            "Requirement already satisfied: neattext in /usr/local/lib/python3.8/dist-packages (0.1.3)\n"
          ]
        }
      ]
    },
    {
      "cell_type": "code",
      "source": [
        "# Load text clean pkgs\n",
        "import neattext as nt\n",
        "import neattext.functions as nfx"
      ],
      "metadata": {
        "id": "M6Qvfp95LF3B"
      },
      "execution_count": null,
      "outputs": []
    },
    {
      "cell_type": "code",
      "source": [
        "# Method/Attrib\n",
        "dir(nt)"
      ],
      "metadata": {
        "id": "pWAw7yKyKzKO",
        "colab": {
          "base_uri": "https://localhost:8080/"
        },
        "outputId": "4eed5a4a-37b4-4be4-a856-cc7352705159"
      },
      "execution_count": null,
      "outputs": [
        {
          "output_type": "execute_result",
          "data": {
            "text/plain": [
              "['AUTOMATED_READ_INDEX',\n",
              " 'BTC_ADDRESS_REGEX',\n",
              " 'CONTRACTIONS_DICT',\n",
              " 'CURRENCY_REGEX',\n",
              " 'CURRENCY_SYMB_REGEX',\n",
              " 'Callable',\n",
              " 'Counter',\n",
              " 'CreditCard_REGEX',\n",
              " 'DATE_REGEX',\n",
              " 'EMAIL_REGEX',\n",
              " 'EMOJI_REGEX',\n",
              " 'FUNCTORS_WORDLIST',\n",
              " 'HASTAG_REGEX',\n",
              " 'HTML_TAGS_REGEX',\n",
              " 'List',\n",
              " 'MASTERCard_REGEX',\n",
              " 'MD5_SHA_REGEX',\n",
              " 'MOST_COMMON_PUNCT_REGEX',\n",
              " 'NUMBERS_REGEX',\n",
              " 'PHONE_REGEX',\n",
              " 'PUNCT_REGEX',\n",
              " 'PoBOX_REGEX',\n",
              " 'SPECIAL_CHARACTERS_REGEX',\n",
              " 'STOPWORDS',\n",
              " 'STOPWORDS_de',\n",
              " 'STOPWORDS_en',\n",
              " 'STOPWORDS_es',\n",
              " 'STOPWORDS_fr',\n",
              " 'STOPWORDS_ru',\n",
              " 'STOPWORDS_yo',\n",
              " 'STREET_ADDRESS_REGEX',\n",
              " 'TextCleaner',\n",
              " 'TextExtractor',\n",
              " 'TextFrame',\n",
              " 'TextMetrics',\n",
              " 'TextPipeline',\n",
              " 'Tuple',\n",
              " 'URL_PATTERN',\n",
              " 'USER_HANDLES_REGEX',\n",
              " 'VISACard_REGEX',\n",
              " 'ZIP_REGEX',\n",
              " '__builtins__',\n",
              " '__cached__',\n",
              " '__doc__',\n",
              " '__file__',\n",
              " '__loader__',\n",
              " '__name__',\n",
              " '__package__',\n",
              " '__path__',\n",
              " '__spec__',\n",
              " '__version__',\n",
              " 'clean_text',\n",
              " 'defaultdict',\n",
              " 'digit2words',\n",
              " 'emoji_explainer',\n",
              " 'emojify',\n",
              " 'explainer',\n",
              " 'extract_btc_address',\n",
              " 'extract_currencies',\n",
              " 'extract_currency_symbols',\n",
              " 'extract_dates',\n",
              " 'extract_emails',\n",
              " 'extract_emojis',\n",
              " 'extract_hashtags',\n",
              " 'extract_html_tags',\n",
              " 'extract_mastercard_addr',\n",
              " 'extract_md5sha',\n",
              " 'extract_numbers',\n",
              " 'extract_pattern',\n",
              " 'extract_phone_numbers',\n",
              " 'extract_postoffice_box',\n",
              " 'extract_shortwords',\n",
              " 'extract_special_characters',\n",
              " 'extract_stopwords',\n",
              " 'extract_street_address',\n",
              " 'extract_terms_in_bracket',\n",
              " 'extract_urls',\n",
              " 'extract_userhandles',\n",
              " 'extract_visacard_addr',\n",
              " 'fix_contractions',\n",
              " 'functions',\n",
              " 'generate_sentence',\n",
              " 'hamming_distance',\n",
              " 'inverse_df',\n",
              " 'lexical_richness',\n",
              " 'markov_chain',\n",
              " 'math',\n",
              " 'neattext',\n",
              " 'nlargest',\n",
              " 'normalize',\n",
              " 'num2words',\n",
              " 'pattern_data',\n",
              " 'pipeline',\n",
              " 'random',\n",
              " 're',\n",
              " 'read_txt',\n",
              " 'remove_accents',\n",
              " 'remove_bad_quotes',\n",
              " 'remove_btc_address',\n",
              " 'remove_currencies',\n",
              " 'remove_currency_symbols',\n",
              " 'remove_custom_pattern',\n",
              " 'remove_custom_words',\n",
              " 'remove_dates',\n",
              " 'remove_emails',\n",
              " 'remove_emojis',\n",
              " 'remove_hashtags',\n",
              " 'remove_html_tags',\n",
              " 'remove_mastercard_addr',\n",
              " 'remove_md5sha',\n",
              " 'remove_multiple_spaces',\n",
              " 'remove_non_ascii',\n",
              " 'remove_numbers',\n",
              " 'remove_phone_numbers',\n",
              " 'remove_postoffice_box',\n",
              " 'remove_puncts',\n",
              " 'remove_punctuations',\n",
              " 'remove_shortwords',\n",
              " 'remove_special_characters',\n",
              " 'remove_stopwords',\n",
              " 'remove_street_address',\n",
              " 'remove_terms_in_bracket',\n",
              " 'remove_urls',\n",
              " 'remove_userhandles',\n",
              " 'remove_visacard_addr',\n",
              " 'replace_bad_quotes',\n",
              " 'replace_currencies',\n",
              " 'replace_currency_symbols',\n",
              " 'replace_dates',\n",
              " 'replace_emails',\n",
              " 'replace_emojis',\n",
              " 'replace_numbers',\n",
              " 'replace_phone_numbers',\n",
              " 'replace_special_characters',\n",
              " 'replace_term',\n",
              " 'replace_urls',\n",
              " 'string',\n",
              " 'term_freq',\n",
              " 'to_txt',\n",
              " 'unicode_2_emoji',\n",
              " 'unicodedata',\n",
              " 'word_freq',\n",
              " 'word_length_freq']"
            ]
          },
          "metadata": {},
          "execution_count": 85
        }
      ]
    },
    {
      "cell_type": "code",
      "source": [
        "# Method/Attrib of Fxn\n",
        "dir(nfx)"
      ],
      "metadata": {
        "id": "5qj6E3CaKzNO",
        "colab": {
          "base_uri": "https://localhost:8080/"
        },
        "outputId": "a6677969-2d2d-427b-b74f-b57739c48f26"
      },
      "execution_count": null,
      "outputs": [
        {
          "output_type": "execute_result",
          "data": {
            "text/plain": [
              "['BTC_ADDRESS_REGEX',\n",
              " 'CURRENCY_REGEX',\n",
              " 'CURRENCY_SYMB_REGEX',\n",
              " 'Counter',\n",
              " 'DATE_REGEX',\n",
              " 'EMAIL_REGEX',\n",
              " 'EMOJI_REGEX',\n",
              " 'HASTAG_REGEX',\n",
              " 'MASTERCard_REGEX',\n",
              " 'MD5_SHA_REGEX',\n",
              " 'MOST_COMMON_PUNCT_REGEX',\n",
              " 'NUMBERS_REGEX',\n",
              " 'PHONE_REGEX',\n",
              " 'PoBOX_REGEX',\n",
              " 'SPECIAL_CHARACTERS_REGEX',\n",
              " 'STOPWORDS',\n",
              " 'STOPWORDS_de',\n",
              " 'STOPWORDS_en',\n",
              " 'STOPWORDS_es',\n",
              " 'STOPWORDS_fr',\n",
              " 'STOPWORDS_ru',\n",
              " 'STOPWORDS_yo',\n",
              " 'STREET_ADDRESS_REGEX',\n",
              " 'TextFrame',\n",
              " 'URL_PATTERN',\n",
              " 'USER_HANDLES_REGEX',\n",
              " 'VISACard_REGEX',\n",
              " '__builtins__',\n",
              " '__cached__',\n",
              " '__doc__',\n",
              " '__file__',\n",
              " '__generate_text',\n",
              " '__loader__',\n",
              " '__name__',\n",
              " '__numbers_dict',\n",
              " '__package__',\n",
              " '__spec__',\n",
              " '_lex_richness_herdan',\n",
              " '_lex_richness_maas_ttr',\n",
              " 'clean_text',\n",
              " 'defaultdict',\n",
              " 'digit2words',\n",
              " 'extract_btc_address',\n",
              " 'extract_currencies',\n",
              " 'extract_currency_symbols',\n",
              " 'extract_dates',\n",
              " 'extract_emails',\n",
              " 'extract_emojis',\n",
              " 'extract_hashtags',\n",
              " 'extract_html_tags',\n",
              " 'extract_mastercard_addr',\n",
              " 'extract_md5sha',\n",
              " 'extract_numbers',\n",
              " 'extract_pattern',\n",
              " 'extract_phone_numbers',\n",
              " 'extract_postoffice_box',\n",
              " 'extract_shortwords',\n",
              " 'extract_special_characters',\n",
              " 'extract_stopwords',\n",
              " 'extract_street_address',\n",
              " 'extract_terms_in_bracket',\n",
              " 'extract_urls',\n",
              " 'extract_userhandles',\n",
              " 'extract_visacard_addr',\n",
              " 'fix_contractions',\n",
              " 'generate_sentence',\n",
              " 'hamming_distance',\n",
              " 'inverse_df',\n",
              " 'lexical_richness',\n",
              " 'markov_chain',\n",
              " 'math',\n",
              " 'nlargest',\n",
              " 'normalize',\n",
              " 'num2words',\n",
              " 'random',\n",
              " 're',\n",
              " 'read_txt',\n",
              " 'remove_accents',\n",
              " 'remove_bad_quotes',\n",
              " 'remove_btc_address',\n",
              " 'remove_currencies',\n",
              " 'remove_currency_symbols',\n",
              " 'remove_custom_pattern',\n",
              " 'remove_custom_words',\n",
              " 'remove_dates',\n",
              " 'remove_emails',\n",
              " 'remove_emojis',\n",
              " 'remove_hashtags',\n",
              " 'remove_html_tags',\n",
              " 'remove_mastercard_addr',\n",
              " 'remove_md5sha',\n",
              " 'remove_multiple_spaces',\n",
              " 'remove_non_ascii',\n",
              " 'remove_numbers',\n",
              " 'remove_phone_numbers',\n",
              " 'remove_postoffice_box',\n",
              " 'remove_puncts',\n",
              " 'remove_punctuations',\n",
              " 'remove_shortwords',\n",
              " 'remove_special_characters',\n",
              " 'remove_stopwords',\n",
              " 'remove_street_address',\n",
              " 'remove_terms_in_bracket',\n",
              " 'remove_urls',\n",
              " 'remove_userhandles',\n",
              " 'remove_visacard_addr',\n",
              " 'replace_bad_quotes',\n",
              " 'replace_currencies',\n",
              " 'replace_currency_symbols',\n",
              " 'replace_dates',\n",
              " 'replace_emails',\n",
              " 'replace_emojis',\n",
              " 'replace_numbers',\n",
              " 'replace_phone_numbers',\n",
              " 'replace_special_characters',\n",
              " 'replace_term',\n",
              " 'replace_urls',\n",
              " 'string',\n",
              " 'term_freq',\n",
              " 'to_txt',\n",
              " 'unicodedata',\n",
              " 'word_freq',\n",
              " 'word_length_freq']"
            ]
          },
          "metadata": {},
          "execution_count": 86
        }
      ]
    },
    {
      "cell_type": "code",
      "source": [
        "s=df.iloc[5]['Tweet']\n",
        "s"
      ],
      "metadata": {
        "colab": {
          "base_uri": "https://localhost:8080/",
          "height": 53
        },
        "id": "j1JTBAGNKzQk",
        "outputId": "7f883f05-2a58-457f-e134-fd5a54646759"
      },
      "execution_count": null,
      "outputs": [
        {
          "output_type": "execute_result",
          "data": {
            "text/plain": [
              "'The US says it requires all travelers from China to show negative Covid-19 test results. The new rules became effective on January 5th, 2023.\\n#China #Covid #Pandemic #whitelungs #CM2 #Omicron #Delta https://t.co/thjrdlLDSs'"
            ],
            "application/vnd.google.colaboratory.intrinsic+json": {
              "type": "string"
            }
          },
          "metadata": {},
          "execution_count": 87
        }
      ]
    },
    {
      "cell_type": "code",
      "source": [
        "# Method 1: Oop using TextFrame\n",
        "docx=nt.TextFrame(s)"
      ],
      "metadata": {
        "id": "U6scyLBUKzTj"
      },
      "execution_count": null,
      "outputs": []
    },
    {
      "cell_type": "code",
      "source": [
        "docx.describe()"
      ],
      "metadata": {
        "colab": {
          "base_uri": "https://localhost:8080/"
        },
        "id": "0RRiFqSdKzWu",
        "outputId": "ba5b88d3-bd19-4ea2-de59-77e2c27c0f53"
      },
      "execution_count": null,
      "outputs": [
        {
          "output_type": "stream",
          "name": "stdout",
          "text": [
            "Key      Value          \n",
            "Length  : 222            \n",
            "vowels  : 57             \n",
            "consonants: 110            \n",
            "stopwords: 10             \n",
            "punctuations: 9              \n",
            "special_char: 16             \n",
            "tokens(whitespace): 32             \n",
            "tokens(words): 36             \n"
          ]
        }
      ]
    },
    {
      "cell_type": "code",
      "source": [
        "# Preview the First 10 char\n",
        "docx.head(10)"
      ],
      "metadata": {
        "colab": {
          "base_uri": "https://localhost:8080/",
          "height": 35
        },
        "id": "IxNIf5MuKzZv",
        "outputId": "65676062-8121-4cbe-b430-0eef1ee01ea9"
      },
      "execution_count": null,
      "outputs": [
        {
          "output_type": "execute_result",
          "data": {
            "text/plain": [
              "'The US say'"
            ],
            "application/vnd.google.colaboratory.intrinsic+json": {
              "type": "string"
            }
          },
          "metadata": {},
          "execution_count": 90
        }
      ]
    },
    {
      "cell_type": "code",
      "source": [
        "# Preview the First 10 char\n",
        "docx.tail(10)"
      ],
      "metadata": {
        "colab": {
          "base_uri": "https://localhost:8080/",
          "height": 35
        },
        "id": "Ie9HAo-9MnjY",
        "outputId": "52fac71c-83c7-4982-d6a8-f00d82901c16"
      },
      "execution_count": null,
      "outputs": [
        {
          "output_type": "execute_result",
          "data": {
            "text/plain": [
              "'thjrdlLDSs'"
            ],
            "application/vnd.google.colaboratory.intrinsic+json": {
              "type": "string"
            }
          },
          "metadata": {},
          "execution_count": 91
        }
      ]
    },
    {
      "cell_type": "code",
      "source": [
        "s"
      ],
      "metadata": {
        "colab": {
          "base_uri": "https://localhost:8080/",
          "height": 53
        },
        "id": "qx8mT9GHNUdF",
        "outputId": "3b78892d-9519-4481-f9ee-31e4f7b202d5"
      },
      "execution_count": null,
      "outputs": [
        {
          "output_type": "execute_result",
          "data": {
            "text/plain": [
              "'The US says it requires all travelers from China to show negative Covid-19 test results. The new rules became effective on January 5th, 2023.\\n#China #Covid #Pandemic #whitelungs #CM2 #Omicron #Delta https://t.co/thjrdlLDSs'"
            ],
            "application/vnd.google.colaboratory.intrinsic+json": {
              "type": "string"
            }
          },
          "metadata": {},
          "execution_count": 92
        }
      ]
    },
    {
      "cell_type": "code",
      "source": [
        "# Remove stopwords\n",
        "docx.remove_stopwords().text"
      ],
      "metadata": {
        "colab": {
          "base_uri": "https://localhost:8080/",
          "height": 53
        },
        "id": "vTg_-3VHMnmx",
        "outputId": "f294ddd7-d6fb-4b92-e517-0ccca7f0c7f7"
      },
      "execution_count": null,
      "outputs": [
        {
          "output_type": "execute_result",
          "data": {
            "text/plain": [
              "'says requires travelers China negative Covid-19 test results. new rules effective January 5th, 2023. #China #Covid #Pandemic #whitelungs #CM2 #Omicron #Delta https://t.co/thjrdlLDSs'"
            ],
            "application/vnd.google.colaboratory.intrinsic+json": {
              "type": "string"
            }
          },
          "metadata": {},
          "execution_count": 93
        }
      ]
    },
    {
      "cell_type": "code",
      "source": [
        "# Remove punct\n",
        "docx.remove_puncts(most_common=True).text"
      ],
      "metadata": {
        "colab": {
          "base_uri": "https://localhost:8080/",
          "height": 53
        },
        "id": "wTIaoFu9Mn0x",
        "outputId": "08ca9103-f1e3-4660-bf4d-3cef50080f41"
      },
      "execution_count": null,
      "outputs": [
        {
          "output_type": "execute_result",
          "data": {
            "text/plain": [
              "'says requires travelers China negative Covid19 test results new rules effective January 5th 2023 #China #Covid #Pandemic #whitelungs #CM2 #Omicron #Delta https://tco/thjrdlLDSs'"
            ],
            "application/vnd.google.colaboratory.intrinsic+json": {
              "type": "string"
            }
          },
          "metadata": {},
          "execution_count": 94
        }
      ]
    },
    {
      "cell_type": "code",
      "source": [
        "docx.remove_puncts(most_common=False).text"
      ],
      "metadata": {
        "colab": {
          "base_uri": "https://localhost:8080/",
          "height": 53
        },
        "id": "qluKjcPzMn4D",
        "outputId": "54556c8d-2ca9-4dcf-d7c3-12b29b16acc3"
      },
      "execution_count": null,
      "outputs": [
        {
          "output_type": "execute_result",
          "data": {
            "text/plain": [
              "'says requires travelers China negative Covid19 test results new rules effective January 5th 2023 China Covid Pandemic whitelungs CM2 Omicron Delta httpstcothjrdlLDSs'"
            ],
            "application/vnd.google.colaboratory.intrinsic+json": {
              "type": "string"
            }
          },
          "metadata": {},
          "execution_count": 95
        }
      ]
    },
    {
      "cell_type": "code",
      "source": [
        "##3 Method 2 Using Functional Approach\n",
        "import neattext.functions as nfx"
      ],
      "metadata": {
        "id": "0X0ghd7AMn8K"
      },
      "execution_count": null,
      "outputs": []
    },
    {
      "cell_type": "code",
      "source": [
        "s"
      ],
      "metadata": {
        "colab": {
          "base_uri": "https://localhost:8080/",
          "height": 53
        },
        "id": "kWvLq6akMn_r",
        "outputId": "6ce74567-fa37-45bb-a171-4e7b80f6dc88"
      },
      "execution_count": null,
      "outputs": [
        {
          "output_type": "execute_result",
          "data": {
            "text/plain": [
              "'The US says it requires all travelers from China to show negative Covid-19 test results. The new rules became effective on January 5th, 2023.\\n#China #Covid #Pandemic #whitelungs #CM2 #Omicron #Delta https://t.co/thjrdlLDSs'"
            ],
            "application/vnd.google.colaboratory.intrinsic+json": {
              "type": "string"
            }
          },
          "metadata": {},
          "execution_count": 97
        }
      ]
    },
    {
      "cell_type": "code",
      "source": [
        "# Remove userhandles/mentions\n",
        "nfx.remove_userhandles(s)"
      ],
      "metadata": {
        "colab": {
          "base_uri": "https://localhost:8080/",
          "height": 53
        },
        "id": "6MZGJKLfMoE-",
        "outputId": "1d24bfc3-a91c-4944-da56-68694830c27c"
      },
      "execution_count": null,
      "outputs": [
        {
          "output_type": "execute_result",
          "data": {
            "text/plain": [
              "'The US says it requires all travelers from China to show negative Covid-19 test results. The new rules became effective on January 5th, 2023.\\n#China #Covid #Pandemic #whitelungs #CM2 #Omicron #Delta https://t.co/thjrdlLDSs'"
            ],
            "application/vnd.google.colaboratory.intrinsic+json": {
              "type": "string"
            }
          },
          "metadata": {},
          "execution_count": 98
        }
      ]
    },
    {
      "cell_type": "code",
      "source": [
        "# Remove hashtags/mentions\n",
        "nfx.remove_hashtags(s)"
      ],
      "metadata": {
        "colab": {
          "base_uri": "https://localhost:8080/",
          "height": 53
        },
        "id": "TFJTRwEeO_7t",
        "outputId": "4cdf33d0-7128-4705-cad2-7e99fc16ae1e"
      },
      "execution_count": null,
      "outputs": [
        {
          "output_type": "execute_result",
          "data": {
            "text/plain": [
              "'The US says it requires all travelers from China to show negative Covid-19 test results. The new rules became effective on January 5th, 2023.\\n              https://t.co/thjrdlLDSs'"
            ],
            "application/vnd.google.colaboratory.intrinsic+json": {
              "type": "string"
            }
          },
          "metadata": {},
          "execution_count": 99
        }
      ]
    },
    {
      "cell_type": "code",
      "source": [
        "# Remove special characters\n",
        "nfx.remove_special_characters(s)"
      ],
      "metadata": {
        "colab": {
          "base_uri": "https://localhost:8080/",
          "height": 53
        },
        "id": "xgQNLdv-PJAq",
        "outputId": "16e96ec3-d388-4e81-8bcf-76ba324d9d4a"
      },
      "execution_count": null,
      "outputs": [
        {
          "output_type": "execute_result",
          "data": {
            "text/plain": [
              "'The US says it requires all travelers from China to show negative Covid19 test results The new rules became effective on January 5th 2023China Covid Pandemic whitelungs CM2 Omicron Delta httpstcothjrdlLDSs'"
            ],
            "application/vnd.google.colaboratory.intrinsic+json": {
              "type": "string"
            }
          },
          "metadata": {},
          "execution_count": 100
        }
      ]
    },
    {
      "cell_type": "code",
      "source": [
        "# Remove stopwords\n",
        "nfx.remove_stopwords(s)"
      ],
      "metadata": {
        "colab": {
          "base_uri": "https://localhost:8080/",
          "height": 53
        },
        "id": "EMAFFcwsPdFi",
        "outputId": "abd138d5-bb6b-42b4-ace7-dd4941189551"
      },
      "execution_count": null,
      "outputs": [
        {
          "output_type": "execute_result",
          "data": {
            "text/plain": [
              "'says requires travelers China negative Covid-19 test results. new rules effective January 5th, 2023. #China #Covid #Pandemic #whitelungs #CM2 #Omicron #Delta https://t.co/thjrdlLDSs'"
            ],
            "application/vnd.google.colaboratory.intrinsic+json": {
              "type": "string"
            }
          },
          "metadata": {},
          "execution_count": 101
        }
      ]
    },
    {
      "cell_type": "code",
      "source": [
        "### Clean Text\n",
        "s"
      ],
      "metadata": {
        "colab": {
          "base_uri": "https://localhost:8080/",
          "height": 53
        },
        "id": "aHYkLrqePmBc",
        "outputId": "3b15b0a5-b38e-4e89-8578-32e95d03db90"
      },
      "execution_count": null,
      "outputs": [
        {
          "output_type": "execute_result",
          "data": {
            "text/plain": [
              "'The US says it requires all travelers from China to show negative Covid-19 test results. The new rules became effective on January 5th, 2023.\\n#China #Covid #Pandemic #whitelungs #CM2 #Omicron #Delta https://t.co/thjrdlLDSs'"
            ],
            "application/vnd.google.colaboratory.intrinsic+json": {
              "type": "string"
            }
          },
          "metadata": {},
          "execution_count": 102
        }
      ]
    },
    {
      "cell_type": "code",
      "source": [
        "### Clean Text\n",
        "s2=\"The US says it requires all travelers from China to show negative Covid-19 test results. The new rules became effective on January 5th, 2023.\\n#China #Covid #Pandemic #whitelungs #CM2 #Omicron #Delta https://t.co/thjrdlLDSs(*￣︶￣)\""
      ],
      "metadata": {
        "id": "4y8aNM4NPsXB"
      },
      "execution_count": null,
      "outputs": []
    },
    {
      "cell_type": "code",
      "source": [
        "s2"
      ],
      "metadata": {
        "colab": {
          "base_uri": "https://localhost:8080/",
          "height": 53
        },
        "id": "0n5_uQxZQQri",
        "outputId": "c440d087-ef33-4746-d38e-fe9a433ac4ae"
      },
      "execution_count": null,
      "outputs": [
        {
          "output_type": "execute_result",
          "data": {
            "text/plain": [
              "'The US says it requires all travelers from China to show negative Covid-19 test results. The new rules became effective on January 5th, 2023.\\n#China #Covid #Pandemic #whitelungs #CM2 #Omicron #Delta https://t.co/thjrdlLDSs(*￣︶￣)'"
            ],
            "application/vnd.google.colaboratory.intrinsic+json": {
              "type": "string"
            }
          },
          "metadata": {},
          "execution_count": 104
        }
      ]
    },
    {
      "cell_type": "code",
      "source": [
        "nfx.clean_text(s2)"
      ],
      "metadata": {
        "colab": {
          "base_uri": "https://localhost:8080/",
          "height": 53
        },
        "id": "oW5TT2mkQQuq",
        "outputId": "56ac7372-800c-4a92-8fa4-1339b46febc8"
      },
      "execution_count": null,
      "outputs": [
        {
          "output_type": "execute_result",
          "data": {
            "text/plain": [
              "'says requires travelers china negative covid-19 test results. new rules effective january 5th, 2023. #china #covid #pandemic #whitelungs #cm2 #omicron #delta https://t.co/thjrdlldss(*)'"
            ],
            "application/vnd.google.colaboratory.intrinsic+json": {
              "type": "string"
            }
          },
          "metadata": {},
          "execution_count": 105
        }
      ]
    },
    {
      "cell_type": "code",
      "source": [
        "?nfx.clean_text"
      ],
      "metadata": {
        "id": "gxy3PbKPQQxw"
      },
      "execution_count": null,
      "outputs": []
    },
    {
      "cell_type": "code",
      "source": [
        "nfx.clean_text(s2,puncts=False)"
      ],
      "metadata": {
        "colab": {
          "base_uri": "https://localhost:8080/",
          "height": 53
        },
        "id": "ePQrCMyAQrVd",
        "outputId": "27f10aba-385f-4b55-8159-04e49c5f1f9b"
      },
      "execution_count": null,
      "outputs": [
        {
          "output_type": "execute_result",
          "data": {
            "text/plain": [
              "'says requires travelers china negative covid-19 test results. new rules effective january 5th, 2023. #china #covid #pandemic #whitelungs #cm2 #omicron #delta https://t.co/thjrdlldss(*)'"
            ],
            "application/vnd.google.colaboratory.intrinsic+json": {
              "type": "string"
            }
          },
          "metadata": {},
          "execution_count": 107
        }
      ]
    },
    {
      "cell_type": "code",
      "source": [
        "nfx.clean_text(s2,puncts=False,stopwords=False,emails=True,urls=True,emojis=False,custom_pattern='@\\S+')"
      ],
      "metadata": {
        "colab": {
          "base_uri": "https://localhost:8080/",
          "height": 53
        },
        "outputId": "38210d26-6170-4e37-ad2b-50282f13f31a",
        "id": "HQhclJGsRKJm"
      },
      "execution_count": null,
      "outputs": [
        {
          "output_type": "execute_result",
          "data": {
            "text/plain": [
              "'the us says it requires all travelers from china to show negative covid-19 test results. the new rules became effective on january 5th, 2023.\\n#china #covid #pandemic #whitelungs #cm2 #omicron #delta )'"
            ],
            "application/vnd.google.colaboratory.intrinsic+json": {
              "type": "string"
            }
          },
          "metadata": {},
          "execution_count": 108
        }
      ]
    },
    {
      "cell_type": "code",
      "source": [
        "### Working on dataset\n",
        "df"
      ],
      "metadata": {
        "colab": {
          "base_uri": "https://localhost:8080/",
          "height": 423
        },
        "id": "Vb-h4RJtQ2og",
        "outputId": "00b25920-cf3f-415f-8fae-1c1e42fd928c"
      },
      "execution_count": null,
      "outputs": [
        {
          "output_type": "execute_result",
          "data": {
            "text/plain": [
              "                                                   Tweet  \\\n",
              "0      With China shifted their Covid 19 Policy, a lo...   \n",
              "1      @SpiritofHo 100% FACTS.\\n\\nThe United States h...   \n",
              "2      Not Long Now Before Covid is Endemic in China\\...   \n",
              "3      LET’S MAKE EXTRA EFFORT TO PULL THROUGH Adapta...   \n",
              "4      China pide a OMS imparcialidad sobre el Covid-...   \n",
              "...                                                  ...   \n",
              "64391  North:”Krugman cites New Zealand's decision2ab...   \n",
              "64392  crazy &amp; such a scary ass time!! RT @BNOFee...   \n",
              "64393  China used COVID-19 to win global favor with p...   \n",
              "64394  Asian shares were mostly higher Tuesday as jit...   \n",
              "64395  Asia China covid-19 restrictions: Protests tur...   \n",
              "\n",
              "                            Date             User  \n",
              "0      2023-01-09 23:55:12+00:00    aldotjahjadi8  \n",
              "1      2023-01-09 23:52:06+00:00  KarenDa29372310  \n",
              "2      2023-01-09 23:51:07+00:00         typo_cat  \n",
              "3      2023-01-09 23:51:03+00:00      THISDAYLIVE  \n",
              "4      2023-01-09 23:48:53+00:00     Apont3Andr3s  \n",
              "...                          ...              ...  \n",
              "64391  2022-12-01 00:08:07+00:00  libbyliberalnyc  \n",
              "64392  2022-12-01 00:08:02+00:00           yO_Dae  \n",
              "64393  2022-12-01 00:01:00+00:00     EINChinaNews  \n",
              "64394  2022-12-01 00:00:35+00:00    TheFinancialD  \n",
              "64395  2022-12-01 00:00:02+00:00    coi_southasia  \n",
              "\n",
              "[64396 rows x 3 columns]"
            ],
            "text/html": [
              "\n",
              "  <div id=\"df-44e204cb-f7ef-41f2-acc8-7d58080c947a\">\n",
              "    <div class=\"colab-df-container\">\n",
              "      <div>\n",
              "<style scoped>\n",
              "    .dataframe tbody tr th:only-of-type {\n",
              "        vertical-align: middle;\n",
              "    }\n",
              "\n",
              "    .dataframe tbody tr th {\n",
              "        vertical-align: top;\n",
              "    }\n",
              "\n",
              "    .dataframe thead th {\n",
              "        text-align: right;\n",
              "    }\n",
              "</style>\n",
              "<table border=\"1\" class=\"dataframe\">\n",
              "  <thead>\n",
              "    <tr style=\"text-align: right;\">\n",
              "      <th></th>\n",
              "      <th>Tweet</th>\n",
              "      <th>Date</th>\n",
              "      <th>User</th>\n",
              "    </tr>\n",
              "  </thead>\n",
              "  <tbody>\n",
              "    <tr>\n",
              "      <th>0</th>\n",
              "      <td>With China shifted their Covid 19 Policy, a lo...</td>\n",
              "      <td>2023-01-09 23:55:12+00:00</td>\n",
              "      <td>aldotjahjadi8</td>\n",
              "    </tr>\n",
              "    <tr>\n",
              "      <th>1</th>\n",
              "      <td>@SpiritofHo 100% FACTS.\\n\\nThe United States h...</td>\n",
              "      <td>2023-01-09 23:52:06+00:00</td>\n",
              "      <td>KarenDa29372310</td>\n",
              "    </tr>\n",
              "    <tr>\n",
              "      <th>2</th>\n",
              "      <td>Not Long Now Before Covid is Endemic in China\\...</td>\n",
              "      <td>2023-01-09 23:51:07+00:00</td>\n",
              "      <td>typo_cat</td>\n",
              "    </tr>\n",
              "    <tr>\n",
              "      <th>3</th>\n",
              "      <td>LET’S MAKE EXTRA EFFORT TO PULL THROUGH Adapta...</td>\n",
              "      <td>2023-01-09 23:51:03+00:00</td>\n",
              "      <td>THISDAYLIVE</td>\n",
              "    </tr>\n",
              "    <tr>\n",
              "      <th>4</th>\n",
              "      <td>China pide a OMS imparcialidad sobre el Covid-...</td>\n",
              "      <td>2023-01-09 23:48:53+00:00</td>\n",
              "      <td>Apont3Andr3s</td>\n",
              "    </tr>\n",
              "    <tr>\n",
              "      <th>...</th>\n",
              "      <td>...</td>\n",
              "      <td>...</td>\n",
              "      <td>...</td>\n",
              "    </tr>\n",
              "    <tr>\n",
              "      <th>64391</th>\n",
              "      <td>North:”Krugman cites New Zealand's decision2ab...</td>\n",
              "      <td>2022-12-01 00:08:07+00:00</td>\n",
              "      <td>libbyliberalnyc</td>\n",
              "    </tr>\n",
              "    <tr>\n",
              "      <th>64392</th>\n",
              "      <td>crazy &amp;amp; such a scary ass time!! RT @BNOFee...</td>\n",
              "      <td>2022-12-01 00:08:02+00:00</td>\n",
              "      <td>yO_Dae</td>\n",
              "    </tr>\n",
              "    <tr>\n",
              "      <th>64393</th>\n",
              "      <td>China used COVID-19 to win global favor with p...</td>\n",
              "      <td>2022-12-01 00:01:00+00:00</td>\n",
              "      <td>EINChinaNews</td>\n",
              "    </tr>\n",
              "    <tr>\n",
              "      <th>64394</th>\n",
              "      <td>Asian shares were mostly higher Tuesday as jit...</td>\n",
              "      <td>2022-12-01 00:00:35+00:00</td>\n",
              "      <td>TheFinancialD</td>\n",
              "    </tr>\n",
              "    <tr>\n",
              "      <th>64395</th>\n",
              "      <td>Asia China covid-19 restrictions: Protests tur...</td>\n",
              "      <td>2022-12-01 00:00:02+00:00</td>\n",
              "      <td>coi_southasia</td>\n",
              "    </tr>\n",
              "  </tbody>\n",
              "</table>\n",
              "<p>64396 rows × 3 columns</p>\n",
              "</div>\n",
              "      <button class=\"colab-df-convert\" onclick=\"convertToInteractive('df-44e204cb-f7ef-41f2-acc8-7d58080c947a')\"\n",
              "              title=\"Convert this dataframe to an interactive table.\"\n",
              "              style=\"display:none;\">\n",
              "        \n",
              "  <svg xmlns=\"http://www.w3.org/2000/svg\" height=\"24px\"viewBox=\"0 0 24 24\"\n",
              "       width=\"24px\">\n",
              "    <path d=\"M0 0h24v24H0V0z\" fill=\"none\"/>\n",
              "    <path d=\"M18.56 5.44l.94 2.06.94-2.06 2.06-.94-2.06-.94-.94-2.06-.94 2.06-2.06.94zm-11 1L8.5 8.5l.94-2.06 2.06-.94-2.06-.94L8.5 2.5l-.94 2.06-2.06.94zm10 10l.94 2.06.94-2.06 2.06-.94-2.06-.94-.94-2.06-.94 2.06-2.06.94z\"/><path d=\"M17.41 7.96l-1.37-1.37c-.4-.4-.92-.59-1.43-.59-.52 0-1.04.2-1.43.59L10.3 9.45l-7.72 7.72c-.78.78-.78 2.05 0 2.83L4 21.41c.39.39.9.59 1.41.59.51 0 1.02-.2 1.41-.59l7.78-7.78 2.81-2.81c.8-.78.8-2.07 0-2.86zM5.41 20L4 18.59l7.72-7.72 1.47 1.35L5.41 20z\"/>\n",
              "  </svg>\n",
              "      </button>\n",
              "      \n",
              "  <style>\n",
              "    .colab-df-container {\n",
              "      display:flex;\n",
              "      flex-wrap:wrap;\n",
              "      gap: 12px;\n",
              "    }\n",
              "\n",
              "    .colab-df-convert {\n",
              "      background-color: #E8F0FE;\n",
              "      border: none;\n",
              "      border-radius: 50%;\n",
              "      cursor: pointer;\n",
              "      display: none;\n",
              "      fill: #1967D2;\n",
              "      height: 32px;\n",
              "      padding: 0 0 0 0;\n",
              "      width: 32px;\n",
              "    }\n",
              "\n",
              "    .colab-df-convert:hover {\n",
              "      background-color: #E2EBFA;\n",
              "      box-shadow: 0px 1px 2px rgba(60, 64, 67, 0.3), 0px 1px 3px 1px rgba(60, 64, 67, 0.15);\n",
              "      fill: #174EA6;\n",
              "    }\n",
              "\n",
              "    [theme=dark] .colab-df-convert {\n",
              "      background-color: #3B4455;\n",
              "      fill: #D2E3FC;\n",
              "    }\n",
              "\n",
              "    [theme=dark] .colab-df-convert:hover {\n",
              "      background-color: #434B5C;\n",
              "      box-shadow: 0px 1px 3px 1px rgba(0, 0, 0, 0.15);\n",
              "      filter: drop-shadow(0px 1px 2px rgba(0, 0, 0, 0.3));\n",
              "      fill: #FFFFFF;\n",
              "    }\n",
              "  </style>\n",
              "\n",
              "      <script>\n",
              "        const buttonEl =\n",
              "          document.querySelector('#df-44e204cb-f7ef-41f2-acc8-7d58080c947a button.colab-df-convert');\n",
              "        buttonEl.style.display =\n",
              "          google.colab.kernel.accessAllowed ? 'block' : 'none';\n",
              "\n",
              "        async function convertToInteractive(key) {\n",
              "          const element = document.querySelector('#df-44e204cb-f7ef-41f2-acc8-7d58080c947a');\n",
              "          const dataTable =\n",
              "            await google.colab.kernel.invokeFunction('convertToInteractive',\n",
              "                                                     [key], {});\n",
              "          if (!dataTable) return;\n",
              "\n",
              "          const docLinkHtml = 'Like what you see? Visit the ' +\n",
              "            '<a target=\"_blank\" href=https://colab.research.google.com/notebooks/data_table.ipynb>data table notebook</a>'\n",
              "            + ' to learn more about interactive tables.';\n",
              "          element.innerHTML = '';\n",
              "          dataTable['output_type'] = 'display_data';\n",
              "          await google.colab.output.renderOutput(dataTable, element);\n",
              "          const docLink = document.createElement('div');\n",
              "          docLink.innerHTML = docLinkHtml;\n",
              "          element.appendChild(docLink);\n",
              "        }\n",
              "      </script>\n",
              "    </div>\n",
              "  </div>\n",
              "  "
            ]
          },
          "metadata": {},
          "execution_count": 109
        }
      ]
    },
    {
      "cell_type": "code",
      "source": [
        "# Noise Scan\n",
        "df['Tweet'].apply(lambda x: nt.TextFrame(x).noise_scan())"
      ],
      "metadata": {
        "colab": {
          "base_uri": "https://localhost:8080/"
        },
        "id": "sot8LD-YQ2r7",
        "outputId": "6671773e-94c8-4cda-acf1-352e457c2460"
      },
      "execution_count": null,
      "outputs": [
        {
          "output_type": "execute_result",
          "data": {
            "text/plain": [
              "0        {'text_noise': 11.538461538461538, 'text_lengt...\n",
              "1        {'text_noise': 10.616438356164384, 'text_lengt...\n",
              "2        {'text_noise': 10.545454545454545, 'text_lengt...\n",
              "3        {'text_noise': 10.344827586206897, 'text_lengt...\n",
              "4        {'text_noise': 10.95890410958904, 'text_length...\n",
              "                               ...                        \n",
              "64391    {'text_noise': 6.428571428571428, 'text_length...\n",
              "64392    {'text_noise': 11.904761904761903, 'text_lengt...\n",
              "64393    {'text_noise': 12.76595744680851, 'text_length...\n",
              "64394    {'text_noise': 9.482758620689655, 'text_length...\n",
              "64395    {'text_noise': 8.737864077669903, 'text_length...\n",
              "Name: Tweet, Length: 64396, dtype: object"
            ]
          },
          "metadata": {},
          "execution_count": 110
        }
      ]
    },
    {
      "cell_type": "code",
      "source": [
        "dir(nfx)"
      ],
      "metadata": {
        "id": "kHTlkY6zJcvC",
        "colab": {
          "base_uri": "https://localhost:8080/"
        },
        "outputId": "60da3471-8d15-4180-a75e-a327d9a28fa0"
      },
      "execution_count": null,
      "outputs": [
        {
          "output_type": "execute_result",
          "data": {
            "text/plain": [
              "['BTC_ADDRESS_REGEX',\n",
              " 'CURRENCY_REGEX',\n",
              " 'CURRENCY_SYMB_REGEX',\n",
              " 'Counter',\n",
              " 'DATE_REGEX',\n",
              " 'EMAIL_REGEX',\n",
              " 'EMOJI_REGEX',\n",
              " 'HASTAG_REGEX',\n",
              " 'MASTERCard_REGEX',\n",
              " 'MD5_SHA_REGEX',\n",
              " 'MOST_COMMON_PUNCT_REGEX',\n",
              " 'NUMBERS_REGEX',\n",
              " 'PHONE_REGEX',\n",
              " 'PoBOX_REGEX',\n",
              " 'SPECIAL_CHARACTERS_REGEX',\n",
              " 'STOPWORDS',\n",
              " 'STOPWORDS_de',\n",
              " 'STOPWORDS_en',\n",
              " 'STOPWORDS_es',\n",
              " 'STOPWORDS_fr',\n",
              " 'STOPWORDS_ru',\n",
              " 'STOPWORDS_yo',\n",
              " 'STREET_ADDRESS_REGEX',\n",
              " 'TextFrame',\n",
              " 'URL_PATTERN',\n",
              " 'USER_HANDLES_REGEX',\n",
              " 'VISACard_REGEX',\n",
              " '__builtins__',\n",
              " '__cached__',\n",
              " '__doc__',\n",
              " '__file__',\n",
              " '__generate_text',\n",
              " '__loader__',\n",
              " '__name__',\n",
              " '__numbers_dict',\n",
              " '__package__',\n",
              " '__spec__',\n",
              " '_lex_richness_herdan',\n",
              " '_lex_richness_maas_ttr',\n",
              " 'clean_text',\n",
              " 'defaultdict',\n",
              " 'digit2words',\n",
              " 'extract_btc_address',\n",
              " 'extract_currencies',\n",
              " 'extract_currency_symbols',\n",
              " 'extract_dates',\n",
              " 'extract_emails',\n",
              " 'extract_emojis',\n",
              " 'extract_hashtags',\n",
              " 'extract_html_tags',\n",
              " 'extract_mastercard_addr',\n",
              " 'extract_md5sha',\n",
              " 'extract_numbers',\n",
              " 'extract_pattern',\n",
              " 'extract_phone_numbers',\n",
              " 'extract_postoffice_box',\n",
              " 'extract_shortwords',\n",
              " 'extract_special_characters',\n",
              " 'extract_stopwords',\n",
              " 'extract_street_address',\n",
              " 'extract_terms_in_bracket',\n",
              " 'extract_urls',\n",
              " 'extract_userhandles',\n",
              " 'extract_visacard_addr',\n",
              " 'fix_contractions',\n",
              " 'generate_sentence',\n",
              " 'hamming_distance',\n",
              " 'inverse_df',\n",
              " 'lexical_richness',\n",
              " 'markov_chain',\n",
              " 'math',\n",
              " 'nlargest',\n",
              " 'normalize',\n",
              " 'num2words',\n",
              " 'random',\n",
              " 're',\n",
              " 'read_txt',\n",
              " 'remove_accents',\n",
              " 'remove_bad_quotes',\n",
              " 'remove_btc_address',\n",
              " 'remove_currencies',\n",
              " 'remove_currency_symbols',\n",
              " 'remove_custom_pattern',\n",
              " 'remove_custom_words',\n",
              " 'remove_dates',\n",
              " 'remove_emails',\n",
              " 'remove_emojis',\n",
              " 'remove_hashtags',\n",
              " 'remove_html_tags',\n",
              " 'remove_mastercard_addr',\n",
              " 'remove_md5sha',\n",
              " 'remove_multiple_spaces',\n",
              " 'remove_non_ascii',\n",
              " 'remove_numbers',\n",
              " 'remove_phone_numbers',\n",
              " 'remove_postoffice_box',\n",
              " 'remove_puncts',\n",
              " 'remove_punctuations',\n",
              " 'remove_shortwords',\n",
              " 'remove_special_characters',\n",
              " 'remove_stopwords',\n",
              " 'remove_street_address',\n",
              " 'remove_terms_in_bracket',\n",
              " 'remove_urls',\n",
              " 'remove_userhandles',\n",
              " 'remove_visacard_addr',\n",
              " 'replace_bad_quotes',\n",
              " 'replace_currencies',\n",
              " 'replace_currency_symbols',\n",
              " 'replace_dates',\n",
              " 'replace_emails',\n",
              " 'replace_emojis',\n",
              " 'replace_numbers',\n",
              " 'replace_phone_numbers',\n",
              " 'replace_special_characters',\n",
              " 'replace_term',\n",
              " 'replace_urls',\n",
              " 'string',\n",
              " 'term_freq',\n",
              " 'to_txt',\n",
              " 'unicodedata',\n",
              " 'word_freq',\n",
              " 'word_length_freq']"
            ]
          },
          "metadata": {},
          "execution_count": 111
        }
      ]
    },
    {
      "cell_type": "code",
      "source": [
        "# Extract Userhandles\n",
        "df['userhandles']=df['Tweet'].apply(nfx.extract_userhandles)"
      ],
      "metadata": {
        "id": "LHVbBtXoQ2vC"
      },
      "execution_count": null,
      "outputs": []
    },
    {
      "cell_type": "code",
      "source": [
        "df.head()"
      ],
      "metadata": {
        "id": "urv4eFkzQ2x9",
        "colab": {
          "base_uri": "https://localhost:8080/",
          "height": 337
        },
        "outputId": "4c7e5787-0105-40ff-8a41-b84d0636797a"
      },
      "execution_count": null,
      "outputs": [
        {
          "output_type": "execute_result",
          "data": {
            "text/plain": [
              "                                               Tweet  \\\n",
              "0  With China shifted their Covid 19 Policy, a lo...   \n",
              "1  @SpiritofHo 100% FACTS.\\n\\nThe United States h...   \n",
              "2  Not Long Now Before Covid is Endemic in China\\...   \n",
              "3  LET’S MAKE EXTRA EFFORT TO PULL THROUGH Adapta...   \n",
              "4  China pide a OMS imparcialidad sobre el Covid-...   \n",
              "\n",
              "                        Date             User    userhandles  \n",
              "0  2023-01-09 23:55:12+00:00    aldotjahjadi8             []  \n",
              "1  2023-01-09 23:52:06+00:00  KarenDa29372310  [@SpiritofHo]  \n",
              "2  2023-01-09 23:51:07+00:00         typo_cat             []  \n",
              "3  2023-01-09 23:51:03+00:00      THISDAYLIVE             []  \n",
              "4  2023-01-09 23:48:53+00:00     Apont3Andr3s             []  "
            ],
            "text/html": [
              "\n",
              "  <div id=\"df-c1e7763d-3bbb-489a-bb66-72e1077b7da4\">\n",
              "    <div class=\"colab-df-container\">\n",
              "      <div>\n",
              "<style scoped>\n",
              "    .dataframe tbody tr th:only-of-type {\n",
              "        vertical-align: middle;\n",
              "    }\n",
              "\n",
              "    .dataframe tbody tr th {\n",
              "        vertical-align: top;\n",
              "    }\n",
              "\n",
              "    .dataframe thead th {\n",
              "        text-align: right;\n",
              "    }\n",
              "</style>\n",
              "<table border=\"1\" class=\"dataframe\">\n",
              "  <thead>\n",
              "    <tr style=\"text-align: right;\">\n",
              "      <th></th>\n",
              "      <th>Tweet</th>\n",
              "      <th>Date</th>\n",
              "      <th>User</th>\n",
              "      <th>userhandles</th>\n",
              "    </tr>\n",
              "  </thead>\n",
              "  <tbody>\n",
              "    <tr>\n",
              "      <th>0</th>\n",
              "      <td>With China shifted their Covid 19 Policy, a lo...</td>\n",
              "      <td>2023-01-09 23:55:12+00:00</td>\n",
              "      <td>aldotjahjadi8</td>\n",
              "      <td>[]</td>\n",
              "    </tr>\n",
              "    <tr>\n",
              "      <th>1</th>\n",
              "      <td>@SpiritofHo 100% FACTS.\\n\\nThe United States h...</td>\n",
              "      <td>2023-01-09 23:52:06+00:00</td>\n",
              "      <td>KarenDa29372310</td>\n",
              "      <td>[@SpiritofHo]</td>\n",
              "    </tr>\n",
              "    <tr>\n",
              "      <th>2</th>\n",
              "      <td>Not Long Now Before Covid is Endemic in China\\...</td>\n",
              "      <td>2023-01-09 23:51:07+00:00</td>\n",
              "      <td>typo_cat</td>\n",
              "      <td>[]</td>\n",
              "    </tr>\n",
              "    <tr>\n",
              "      <th>3</th>\n",
              "      <td>LET’S MAKE EXTRA EFFORT TO PULL THROUGH Adapta...</td>\n",
              "      <td>2023-01-09 23:51:03+00:00</td>\n",
              "      <td>THISDAYLIVE</td>\n",
              "      <td>[]</td>\n",
              "    </tr>\n",
              "    <tr>\n",
              "      <th>4</th>\n",
              "      <td>China pide a OMS imparcialidad sobre el Covid-...</td>\n",
              "      <td>2023-01-09 23:48:53+00:00</td>\n",
              "      <td>Apont3Andr3s</td>\n",
              "      <td>[]</td>\n",
              "    </tr>\n",
              "  </tbody>\n",
              "</table>\n",
              "</div>\n",
              "      <button class=\"colab-df-convert\" onclick=\"convertToInteractive('df-c1e7763d-3bbb-489a-bb66-72e1077b7da4')\"\n",
              "              title=\"Convert this dataframe to an interactive table.\"\n",
              "              style=\"display:none;\">\n",
              "        \n",
              "  <svg xmlns=\"http://www.w3.org/2000/svg\" height=\"24px\"viewBox=\"0 0 24 24\"\n",
              "       width=\"24px\">\n",
              "    <path d=\"M0 0h24v24H0V0z\" fill=\"none\"/>\n",
              "    <path d=\"M18.56 5.44l.94 2.06.94-2.06 2.06-.94-2.06-.94-.94-2.06-.94 2.06-2.06.94zm-11 1L8.5 8.5l.94-2.06 2.06-.94-2.06-.94L8.5 2.5l-.94 2.06-2.06.94zm10 10l.94 2.06.94-2.06 2.06-.94-2.06-.94-.94-2.06-.94 2.06-2.06.94z\"/><path d=\"M17.41 7.96l-1.37-1.37c-.4-.4-.92-.59-1.43-.59-.52 0-1.04.2-1.43.59L10.3 9.45l-7.72 7.72c-.78.78-.78 2.05 0 2.83L4 21.41c.39.39.9.59 1.41.59.51 0 1.02-.2 1.41-.59l7.78-7.78 2.81-2.81c.8-.78.8-2.07 0-2.86zM5.41 20L4 18.59l7.72-7.72 1.47 1.35L5.41 20z\"/>\n",
              "  </svg>\n",
              "      </button>\n",
              "      \n",
              "  <style>\n",
              "    .colab-df-container {\n",
              "      display:flex;\n",
              "      flex-wrap:wrap;\n",
              "      gap: 12px;\n",
              "    }\n",
              "\n",
              "    .colab-df-convert {\n",
              "      background-color: #E8F0FE;\n",
              "      border: none;\n",
              "      border-radius: 50%;\n",
              "      cursor: pointer;\n",
              "      display: none;\n",
              "      fill: #1967D2;\n",
              "      height: 32px;\n",
              "      padding: 0 0 0 0;\n",
              "      width: 32px;\n",
              "    }\n",
              "\n",
              "    .colab-df-convert:hover {\n",
              "      background-color: #E2EBFA;\n",
              "      box-shadow: 0px 1px 2px rgba(60, 64, 67, 0.3), 0px 1px 3px 1px rgba(60, 64, 67, 0.15);\n",
              "      fill: #174EA6;\n",
              "    }\n",
              "\n",
              "    [theme=dark] .colab-df-convert {\n",
              "      background-color: #3B4455;\n",
              "      fill: #D2E3FC;\n",
              "    }\n",
              "\n",
              "    [theme=dark] .colab-df-convert:hover {\n",
              "      background-color: #434B5C;\n",
              "      box-shadow: 0px 1px 3px 1px rgba(0, 0, 0, 0.15);\n",
              "      filter: drop-shadow(0px 1px 2px rgba(0, 0, 0, 0.3));\n",
              "      fill: #FFFFFF;\n",
              "    }\n",
              "  </style>\n",
              "\n",
              "      <script>\n",
              "        const buttonEl =\n",
              "          document.querySelector('#df-c1e7763d-3bbb-489a-bb66-72e1077b7da4 button.colab-df-convert');\n",
              "        buttonEl.style.display =\n",
              "          google.colab.kernel.accessAllowed ? 'block' : 'none';\n",
              "\n",
              "        async function convertToInteractive(key) {\n",
              "          const element = document.querySelector('#df-c1e7763d-3bbb-489a-bb66-72e1077b7da4');\n",
              "          const dataTable =\n",
              "            await google.colab.kernel.invokeFunction('convertToInteractive',\n",
              "                                                     [key], {});\n",
              "          if (!dataTable) return;\n",
              "\n",
              "          const docLinkHtml = 'Like what you see? Visit the ' +\n",
              "            '<a target=\"_blank\" href=https://colab.research.google.com/notebooks/data_table.ipynb>data table notebook</a>'\n",
              "            + ' to learn more about interactive tables.';\n",
              "          element.innerHTML = '';\n",
              "          dataTable['output_type'] = 'display_data';\n",
              "          await google.colab.output.renderOutput(dataTable, element);\n",
              "          const docLink = document.createElement('div');\n",
              "          docLink.innerHTML = docLinkHtml;\n",
              "          element.appendChild(docLink);\n",
              "        }\n",
              "      </script>\n",
              "    </div>\n",
              "  </div>\n",
              "  "
            ]
          },
          "metadata": {},
          "execution_count": 113
        }
      ]
    },
    {
      "cell_type": "code",
      "source": [
        "df['clean_Tweet']=df['Tweet'].apply(nfx.remove_userhandles)"
      ],
      "metadata": {
        "id": "OLdXEkkpQ20-"
      },
      "execution_count": null,
      "outputs": []
    },
    {
      "cell_type": "code",
      "source": [
        "df.head()"
      ],
      "metadata": {
        "id": "5VVwEzGHQ24T",
        "colab": {
          "base_uri": "https://localhost:8080/",
          "height": 354
        },
        "outputId": "b1736259-4de4-4207-f6e0-d7443cf935c8"
      },
      "execution_count": null,
      "outputs": [
        {
          "output_type": "execute_result",
          "data": {
            "text/plain": [
              "                                               Tweet  \\\n",
              "0  With China shifted their Covid 19 Policy, a lo...   \n",
              "1  @SpiritofHo 100% FACTS.\\n\\nThe United States h...   \n",
              "2  Not Long Now Before Covid is Endemic in China\\...   \n",
              "3  LET’S MAKE EXTRA EFFORT TO PULL THROUGH Adapta...   \n",
              "4  China pide a OMS imparcialidad sobre el Covid-...   \n",
              "\n",
              "                        Date             User    userhandles  \\\n",
              "0  2023-01-09 23:55:12+00:00    aldotjahjadi8             []   \n",
              "1  2023-01-09 23:52:06+00:00  KarenDa29372310  [@SpiritofHo]   \n",
              "2  2023-01-09 23:51:07+00:00         typo_cat             []   \n",
              "3  2023-01-09 23:51:03+00:00      THISDAYLIVE             []   \n",
              "4  2023-01-09 23:48:53+00:00     Apont3Andr3s             []   \n",
              "\n",
              "                                         clean_Tweet  \n",
              "0  With China shifted their Covid 19 Policy, a lo...  \n",
              "1    100% FACTS.\\n\\nThe United States has NO righ...  \n",
              "2  Not Long Now Before Covid is Endemic in China\\...  \n",
              "3  LET’S MAKE EXTRA EFFORT TO PULL THROUGH Adapta...  \n",
              "4  China pide a OMS imparcialidad sobre el Covid-...  "
            ],
            "text/html": [
              "\n",
              "  <div id=\"df-39448fdc-7f86-4d57-adc0-3e500ce876fd\">\n",
              "    <div class=\"colab-df-container\">\n",
              "      <div>\n",
              "<style scoped>\n",
              "    .dataframe tbody tr th:only-of-type {\n",
              "        vertical-align: middle;\n",
              "    }\n",
              "\n",
              "    .dataframe tbody tr th {\n",
              "        vertical-align: top;\n",
              "    }\n",
              "\n",
              "    .dataframe thead th {\n",
              "        text-align: right;\n",
              "    }\n",
              "</style>\n",
              "<table border=\"1\" class=\"dataframe\">\n",
              "  <thead>\n",
              "    <tr style=\"text-align: right;\">\n",
              "      <th></th>\n",
              "      <th>Tweet</th>\n",
              "      <th>Date</th>\n",
              "      <th>User</th>\n",
              "      <th>userhandles</th>\n",
              "      <th>clean_Tweet</th>\n",
              "    </tr>\n",
              "  </thead>\n",
              "  <tbody>\n",
              "    <tr>\n",
              "      <th>0</th>\n",
              "      <td>With China shifted their Covid 19 Policy, a lo...</td>\n",
              "      <td>2023-01-09 23:55:12+00:00</td>\n",
              "      <td>aldotjahjadi8</td>\n",
              "      <td>[]</td>\n",
              "      <td>With China shifted their Covid 19 Policy, a lo...</td>\n",
              "    </tr>\n",
              "    <tr>\n",
              "      <th>1</th>\n",
              "      <td>@SpiritofHo 100% FACTS.\\n\\nThe United States h...</td>\n",
              "      <td>2023-01-09 23:52:06+00:00</td>\n",
              "      <td>KarenDa29372310</td>\n",
              "      <td>[@SpiritofHo]</td>\n",
              "      <td>100% FACTS.\\n\\nThe United States has NO righ...</td>\n",
              "    </tr>\n",
              "    <tr>\n",
              "      <th>2</th>\n",
              "      <td>Not Long Now Before Covid is Endemic in China\\...</td>\n",
              "      <td>2023-01-09 23:51:07+00:00</td>\n",
              "      <td>typo_cat</td>\n",
              "      <td>[]</td>\n",
              "      <td>Not Long Now Before Covid is Endemic in China\\...</td>\n",
              "    </tr>\n",
              "    <tr>\n",
              "      <th>3</th>\n",
              "      <td>LET’S MAKE EXTRA EFFORT TO PULL THROUGH Adapta...</td>\n",
              "      <td>2023-01-09 23:51:03+00:00</td>\n",
              "      <td>THISDAYLIVE</td>\n",
              "      <td>[]</td>\n",
              "      <td>LET’S MAKE EXTRA EFFORT TO PULL THROUGH Adapta...</td>\n",
              "    </tr>\n",
              "    <tr>\n",
              "      <th>4</th>\n",
              "      <td>China pide a OMS imparcialidad sobre el Covid-...</td>\n",
              "      <td>2023-01-09 23:48:53+00:00</td>\n",
              "      <td>Apont3Andr3s</td>\n",
              "      <td>[]</td>\n",
              "      <td>China pide a OMS imparcialidad sobre el Covid-...</td>\n",
              "    </tr>\n",
              "  </tbody>\n",
              "</table>\n",
              "</div>\n",
              "      <button class=\"colab-df-convert\" onclick=\"convertToInteractive('df-39448fdc-7f86-4d57-adc0-3e500ce876fd')\"\n",
              "              title=\"Convert this dataframe to an interactive table.\"\n",
              "              style=\"display:none;\">\n",
              "        \n",
              "  <svg xmlns=\"http://www.w3.org/2000/svg\" height=\"24px\"viewBox=\"0 0 24 24\"\n",
              "       width=\"24px\">\n",
              "    <path d=\"M0 0h24v24H0V0z\" fill=\"none\"/>\n",
              "    <path d=\"M18.56 5.44l.94 2.06.94-2.06 2.06-.94-2.06-.94-.94-2.06-.94 2.06-2.06.94zm-11 1L8.5 8.5l.94-2.06 2.06-.94-2.06-.94L8.5 2.5l-.94 2.06-2.06.94zm10 10l.94 2.06.94-2.06 2.06-.94-2.06-.94-.94-2.06-.94 2.06-2.06.94z\"/><path d=\"M17.41 7.96l-1.37-1.37c-.4-.4-.92-.59-1.43-.59-.52 0-1.04.2-1.43.59L10.3 9.45l-7.72 7.72c-.78.78-.78 2.05 0 2.83L4 21.41c.39.39.9.59 1.41.59.51 0 1.02-.2 1.41-.59l7.78-7.78 2.81-2.81c.8-.78.8-2.07 0-2.86zM5.41 20L4 18.59l7.72-7.72 1.47 1.35L5.41 20z\"/>\n",
              "  </svg>\n",
              "      </button>\n",
              "      \n",
              "  <style>\n",
              "    .colab-df-container {\n",
              "      display:flex;\n",
              "      flex-wrap:wrap;\n",
              "      gap: 12px;\n",
              "    }\n",
              "\n",
              "    .colab-df-convert {\n",
              "      background-color: #E8F0FE;\n",
              "      border: none;\n",
              "      border-radius: 50%;\n",
              "      cursor: pointer;\n",
              "      display: none;\n",
              "      fill: #1967D2;\n",
              "      height: 32px;\n",
              "      padding: 0 0 0 0;\n",
              "      width: 32px;\n",
              "    }\n",
              "\n",
              "    .colab-df-convert:hover {\n",
              "      background-color: #E2EBFA;\n",
              "      box-shadow: 0px 1px 2px rgba(60, 64, 67, 0.3), 0px 1px 3px 1px rgba(60, 64, 67, 0.15);\n",
              "      fill: #174EA6;\n",
              "    }\n",
              "\n",
              "    [theme=dark] .colab-df-convert {\n",
              "      background-color: #3B4455;\n",
              "      fill: #D2E3FC;\n",
              "    }\n",
              "\n",
              "    [theme=dark] .colab-df-convert:hover {\n",
              "      background-color: #434B5C;\n",
              "      box-shadow: 0px 1px 3px 1px rgba(0, 0, 0, 0.15);\n",
              "      filter: drop-shadow(0px 1px 2px rgba(0, 0, 0, 0.3));\n",
              "      fill: #FFFFFF;\n",
              "    }\n",
              "  </style>\n",
              "\n",
              "      <script>\n",
              "        const buttonEl =\n",
              "          document.querySelector('#df-39448fdc-7f86-4d57-adc0-3e500ce876fd button.colab-df-convert');\n",
              "        buttonEl.style.display =\n",
              "          google.colab.kernel.accessAllowed ? 'block' : 'none';\n",
              "\n",
              "        async function convertToInteractive(key) {\n",
              "          const element = document.querySelector('#df-39448fdc-7f86-4d57-adc0-3e500ce876fd');\n",
              "          const dataTable =\n",
              "            await google.colab.kernel.invokeFunction('convertToInteractive',\n",
              "                                                     [key], {});\n",
              "          if (!dataTable) return;\n",
              "\n",
              "          const docLinkHtml = 'Like what you see? Visit the ' +\n",
              "            '<a target=\"_blank\" href=https://colab.research.google.com/notebooks/data_table.ipynb>data table notebook</a>'\n",
              "            + ' to learn more about interactive tables.';\n",
              "          element.innerHTML = '';\n",
              "          dataTable['output_type'] = 'display_data';\n",
              "          await google.colab.output.renderOutput(dataTable, element);\n",
              "          const docLink = document.createElement('div');\n",
              "          docLink.innerHTML = docLinkHtml;\n",
              "          element.appendChild(docLink);\n",
              "        }\n",
              "      </script>\n",
              "    </div>\n",
              "  </div>\n",
              "  "
            ]
          },
          "metadata": {},
          "execution_count": 115
        }
      ]
    },
    {
      "cell_type": "code",
      "source": [
        "# Extract hashtags\n",
        "df['Tweet'].apply(nfx.extract_hashtags)"
      ],
      "metadata": {
        "colab": {
          "base_uri": "https://localhost:8080/"
        },
        "id": "kVM_3RU6Kayj",
        "outputId": "fce7d53c-5f5a-4d48-bced-5a47bef68fb6"
      },
      "execution_count": null,
      "outputs": [
        {
          "output_type": "execute_result",
          "data": {
            "text/plain": [
              "0                  []\n",
              "1                  []\n",
              "2                  []\n",
              "3                  []\n",
              "4                  []\n",
              "             ...     \n",
              "64391              []\n",
              "64392              []\n",
              "64393              []\n",
              "64394              []\n",
              "64395    [#AlJazeera]\n",
              "Name: Tweet, Length: 64396, dtype: object"
            ]
          },
          "metadata": {},
          "execution_count": 116
        }
      ]
    },
    {
      "cell_type": "code",
      "source": [
        "df['clean_Tweet']"
      ],
      "metadata": {
        "colab": {
          "base_uri": "https://localhost:8080/"
        },
        "id": "d1B8ymzELHpP",
        "outputId": "aa9283c4-a4b4-469e-909e-93feed311b44"
      },
      "execution_count": null,
      "outputs": [
        {
          "output_type": "execute_result",
          "data": {
            "text/plain": [
              "0        With China shifted their Covid 19 Policy, a lo...\n",
              "1          100% FACTS.\\n\\nThe United States has NO righ...\n",
              "2        Not Long Now Before Covid is Endemic in China\\...\n",
              "3        LET’S MAKE EXTRA EFFORT TO PULL THROUGH Adapta...\n",
              "4        China pide a OMS imparcialidad sobre el Covid-...\n",
              "                               ...                        \n",
              "64391    North:”Krugman cites New Zealand's decision2ab...\n",
              "64392    crazy &amp; such a scary ass time!! RT   3 yea...\n",
              "64393    China used COVID-19 to win global favor with p...\n",
              "64394    Asian shares were mostly higher Tuesday as jit...\n",
              "64395    Asia China covid-19 restrictions: Protests tur...\n",
              "Name: clean_Tweet, Length: 64396, dtype: object"
            ]
          },
          "metadata": {},
          "execution_count": 117
        }
      ]
    },
    {
      "cell_type": "code",
      "source": [
        "# Remove hashtags\n",
        "df['clean_Tweet'].apply(nfx.remove_hashtags)"
      ],
      "metadata": {
        "colab": {
          "base_uri": "https://localhost:8080/"
        },
        "id": "zwLvbjOqKrv_",
        "outputId": "56d4bda6-05f3-42de-9e3c-88427974a84e"
      },
      "execution_count": null,
      "outputs": [
        {
          "output_type": "execute_result",
          "data": {
            "text/plain": [
              "0        With China shifted their Covid 19 Policy, a lo...\n",
              "1          100% FACTS.\\n\\nThe United States has NO righ...\n",
              "2        Not Long Now Before Covid is Endemic in China\\...\n",
              "3        LET’S MAKE EXTRA EFFORT TO PULL THROUGH Adapta...\n",
              "4        China pide a OMS imparcialidad sobre el Covid-...\n",
              "                               ...                        \n",
              "64391    North:”Krugman cites New Zealand's decision2ab...\n",
              "64392    crazy &amp; such a scary ass time!! RT   3 yea...\n",
              "64393    China used COVID-19 to win global favor with p...\n",
              "64394    Asian shares were mostly higher Tuesday as jit...\n",
              "64395    Asia China covid-19 restrictions: Protests tur...\n",
              "Name: clean_Tweet, Length: 64396, dtype: object"
            ]
          },
          "metadata": {},
          "execution_count": 118
        }
      ]
    },
    {
      "cell_type": "code",
      "source": [
        "# Remove custom pattern\n",
        "df['clean_Tweet'].apply(lambda x:nfx.remove_custom_pattern(x,term_pattern=r'&#\\S+'))\n"
      ],
      "metadata": {
        "colab": {
          "base_uri": "https://localhost:8080/"
        },
        "id": "Lo07yUoVKxZh",
        "outputId": "408dea64-b24c-4f60-d102-e62fc6d42369"
      },
      "execution_count": null,
      "outputs": [
        {
          "output_type": "execute_result",
          "data": {
            "text/plain": [
              "0        With China shifted their Covid 19 Policy, a lo...\n",
              "1          100% FACTS.\\n\\nThe United States has NO righ...\n",
              "2        Not Long Now Before Covid is Endemic in China\\...\n",
              "3        LET’S MAKE EXTRA EFFORT TO PULL THROUGH Adapta...\n",
              "4        China pide a OMS imparcialidad sobre el Covid-...\n",
              "                               ...                        \n",
              "64391    North:”Krugman cites New Zealand's decision2ab...\n",
              "64392    crazy &amp; such a scary ass time!! RT   3 yea...\n",
              "64393    China used COVID-19 to win global favor with p...\n",
              "64394    Asian shares were mostly higher Tuesday as jit...\n",
              "64395    Asia China covid-19 restrictions: Protests tur...\n",
              "Name: clean_Tweet, Length: 64396, dtype: object"
            ]
          },
          "metadata": {},
          "execution_count": 119
        }
      ]
    },
    {
      "cell_type": "code",
      "source": [
        "df['clean_Tweet']=df['clean_Tweet'].apply(lambda x:nfx.remove_custom_pattern(x,term_pattern=r'&#\\S+'))"
      ],
      "metadata": {
        "id": "mA7l8_DTKxc6"
      },
      "execution_count": null,
      "outputs": []
    },
    {
      "cell_type": "code",
      "source": [
        "df['clean_Tweet']"
      ],
      "metadata": {
        "colab": {
          "base_uri": "https://localhost:8080/"
        },
        "id": "56WLdwKrKxgf",
        "outputId": "deb4e019-2138-4d5e-fb71-a723f0edb16c"
      },
      "execution_count": null,
      "outputs": [
        {
          "output_type": "execute_result",
          "data": {
            "text/plain": [
              "0        With China shifted their Covid 19 Policy, a lo...\n",
              "1          100% FACTS.\\n\\nThe United States has NO righ...\n",
              "2        Not Long Now Before Covid is Endemic in China\\...\n",
              "3        LET’S MAKE EXTRA EFFORT TO PULL THROUGH Adapta...\n",
              "4        China pide a OMS imparcialidad sobre el Covid-...\n",
              "                               ...                        \n",
              "64391    North:”Krugman cites New Zealand's decision2ab...\n",
              "64392    crazy &amp; such a scary ass time!! RT   3 yea...\n",
              "64393    China used COVID-19 to win global favor with p...\n",
              "64394    Asian shares were mostly higher Tuesday as jit...\n",
              "64395    Asia China covid-19 restrictions: Protests tur...\n",
              "Name: clean_Tweet, Length: 64396, dtype: object"
            ]
          },
          "metadata": {},
          "execution_count": 121
        }
      ]
    },
    {
      "cell_type": "code",
      "source": [
        "df['clean_Tweet']=df['clean_Tweet'].apply(lambda x:nfx.remove_custom_pattern(x,term_pattern=r'RT'))"
      ],
      "metadata": {
        "id": "1mybaGf8KxjL"
      },
      "execution_count": null,
      "outputs": []
    },
    {
      "cell_type": "code",
      "source": [
        "df['clean_Tweet']"
      ],
      "metadata": {
        "colab": {
          "base_uri": "https://localhost:8080/"
        },
        "id": "L1W-UCF9NFgd",
        "outputId": "72140bbd-bd83-4ea5-8cac-c0deabae16f1"
      },
      "execution_count": null,
      "outputs": [
        {
          "output_type": "execute_result",
          "data": {
            "text/plain": [
              "0        With China shifted their Covid 19 Policy, a lo...\n",
              "1          100% FACTS.\\n\\nThe United States has NO righ...\n",
              "2        Not Long Now Before Covid is Endemic in China\\...\n",
              "3        LET’S MAKE EXTRA EFFO  TO PULL THROUGH Adaptat...\n",
              "4        China pide a OMS imparcialidad sobre el Covid-...\n",
              "                               ...                        \n",
              "64391    North:”Krugman cites New Zealand's decision2ab...\n",
              "64392    crazy &amp; such a scary ass time!!     3 year...\n",
              "64393    China used COVID-19 to win global favor with p...\n",
              "64394    Asian shares were mostly higher Tuesday as jit...\n",
              "64395    Asia China covid-19 restrictions: Protests tur...\n",
              "Name: clean_Tweet, Length: 64396, dtype: object"
            ]
          },
          "metadata": {},
          "execution_count": 123
        }
      ]
    },
    {
      "cell_type": "code",
      "source": [
        "df['clean_Tweet'].apply(nfx.remove_special_characters)"
      ],
      "metadata": {
        "colab": {
          "base_uri": "https://localhost:8080/"
        },
        "id": "P4kUFcA1NFjd",
        "outputId": "a64dfb4b-0324-45d9-d4e8-4296cb0eb7ca"
      },
      "execution_count": null,
      "outputs": [
        {
          "output_type": "execute_result",
          "data": {
            "text/plain": [
              "0        With China shifted their Covid 19 Policy a lot...\n",
              "1          100 FACTSThe United States has NO right to c...\n",
              "2        Not Long Now Before Covid is Endemic in ChinaC...\n",
              "3        LETS MAKE EXTRA EFFO  TO PULL THROUGH Adaptati...\n",
              "4        China pide a OMS imparcialidad sobre el Covid1...\n",
              "                               ...                        \n",
              "64391    NorthKrugman cites New Zealands decision2aband...\n",
              "64392    crazy amp such a scary ass time     3 years ag...\n",
              "64393    China used COVID19 to win global favor with pr...\n",
              "64394    Asian shares were mostly higher Tuesday as jit...\n",
              "64395    Asia China covid19 restrictions Protests turn ...\n",
              "Name: clean_Tweet, Length: 64396, dtype: object"
            ]
          },
          "metadata": {},
          "execution_count": 124
        }
      ]
    },
    {
      "cell_type": "code",
      "source": [
        "df['clean_Tweet']=df['clean_Tweet'].apply(nfx.remove_special_characters)"
      ],
      "metadata": {
        "id": "pTOay8RqNFm1"
      },
      "execution_count": null,
      "outputs": []
    },
    {
      "cell_type": "code",
      "source": [
        "df['clean_Tweet']=df['clean_Tweet'].apply(nfx.remove_multiple_spaces)"
      ],
      "metadata": {
        "id": "8QNz58JcNFqH"
      },
      "execution_count": null,
      "outputs": []
    },
    {
      "cell_type": "code",
      "source": [
        "df.head()"
      ],
      "metadata": {
        "colab": {
          "base_uri": "https://localhost:8080/",
          "height": 371
        },
        "id": "YaMwpRCHNFs3",
        "outputId": "9df9d9da-f522-4da1-8647-3cb5c87006a5"
      },
      "execution_count": null,
      "outputs": [
        {
          "output_type": "execute_result",
          "data": {
            "text/plain": [
              "                                               Tweet  \\\n",
              "0  With China shifted their Covid 19 Policy, a lo...   \n",
              "1  @SpiritofHo 100% FACTS.\\n\\nThe United States h...   \n",
              "2  Not Long Now Before Covid is Endemic in China\\...   \n",
              "3  LET’S MAKE EXTRA EFFORT TO PULL THROUGH Adapta...   \n",
              "4  China pide a OMS imparcialidad sobre el Covid-...   \n",
              "\n",
              "                        Date             User    userhandles  \\\n",
              "0  2023-01-09 23:55:12+00:00    aldotjahjadi8             []   \n",
              "1  2023-01-09 23:52:06+00:00  KarenDa29372310  [@SpiritofHo]   \n",
              "2  2023-01-09 23:51:07+00:00         typo_cat             []   \n",
              "3  2023-01-09 23:51:03+00:00      THISDAYLIVE             []   \n",
              "4  2023-01-09 23:48:53+00:00     Apont3Andr3s             []   \n",
              "\n",
              "                                         clean_Tweet  \n",
              "0  With China shifted their Covid 19 Policy a lot...  \n",
              "1   100 FACTSThe United States has NO right to cr...  \n",
              "2  Not Long Now Before Covid is Endemic in ChinaC...  \n",
              "3  LETS MAKE EXTRA EFFO TO PULL THROUGH Adaptatio...  \n",
              "4  China pide a OMS imparcialidad sobre el Covid1...  "
            ],
            "text/html": [
              "\n",
              "  <div id=\"df-b946f9e3-a936-40ce-9ac1-369698475d1b\">\n",
              "    <div class=\"colab-df-container\">\n",
              "      <div>\n",
              "<style scoped>\n",
              "    .dataframe tbody tr th:only-of-type {\n",
              "        vertical-align: middle;\n",
              "    }\n",
              "\n",
              "    .dataframe tbody tr th {\n",
              "        vertical-align: top;\n",
              "    }\n",
              "\n",
              "    .dataframe thead th {\n",
              "        text-align: right;\n",
              "    }\n",
              "</style>\n",
              "<table border=\"1\" class=\"dataframe\">\n",
              "  <thead>\n",
              "    <tr style=\"text-align: right;\">\n",
              "      <th></th>\n",
              "      <th>Tweet</th>\n",
              "      <th>Date</th>\n",
              "      <th>User</th>\n",
              "      <th>userhandles</th>\n",
              "      <th>clean_Tweet</th>\n",
              "    </tr>\n",
              "  </thead>\n",
              "  <tbody>\n",
              "    <tr>\n",
              "      <th>0</th>\n",
              "      <td>With China shifted their Covid 19 Policy, a lo...</td>\n",
              "      <td>2023-01-09 23:55:12+00:00</td>\n",
              "      <td>aldotjahjadi8</td>\n",
              "      <td>[]</td>\n",
              "      <td>With China shifted their Covid 19 Policy a lot...</td>\n",
              "    </tr>\n",
              "    <tr>\n",
              "      <th>1</th>\n",
              "      <td>@SpiritofHo 100% FACTS.\\n\\nThe United States h...</td>\n",
              "      <td>2023-01-09 23:52:06+00:00</td>\n",
              "      <td>KarenDa29372310</td>\n",
              "      <td>[@SpiritofHo]</td>\n",
              "      <td>100 FACTSThe United States has NO right to cr...</td>\n",
              "    </tr>\n",
              "    <tr>\n",
              "      <th>2</th>\n",
              "      <td>Not Long Now Before Covid is Endemic in China\\...</td>\n",
              "      <td>2023-01-09 23:51:07+00:00</td>\n",
              "      <td>typo_cat</td>\n",
              "      <td>[]</td>\n",
              "      <td>Not Long Now Before Covid is Endemic in ChinaC...</td>\n",
              "    </tr>\n",
              "    <tr>\n",
              "      <th>3</th>\n",
              "      <td>LET’S MAKE EXTRA EFFORT TO PULL THROUGH Adapta...</td>\n",
              "      <td>2023-01-09 23:51:03+00:00</td>\n",
              "      <td>THISDAYLIVE</td>\n",
              "      <td>[]</td>\n",
              "      <td>LETS MAKE EXTRA EFFO TO PULL THROUGH Adaptatio...</td>\n",
              "    </tr>\n",
              "    <tr>\n",
              "      <th>4</th>\n",
              "      <td>China pide a OMS imparcialidad sobre el Covid-...</td>\n",
              "      <td>2023-01-09 23:48:53+00:00</td>\n",
              "      <td>Apont3Andr3s</td>\n",
              "      <td>[]</td>\n",
              "      <td>China pide a OMS imparcialidad sobre el Covid1...</td>\n",
              "    </tr>\n",
              "  </tbody>\n",
              "</table>\n",
              "</div>\n",
              "      <button class=\"colab-df-convert\" onclick=\"convertToInteractive('df-b946f9e3-a936-40ce-9ac1-369698475d1b')\"\n",
              "              title=\"Convert this dataframe to an interactive table.\"\n",
              "              style=\"display:none;\">\n",
              "        \n",
              "  <svg xmlns=\"http://www.w3.org/2000/svg\" height=\"24px\"viewBox=\"0 0 24 24\"\n",
              "       width=\"24px\">\n",
              "    <path d=\"M0 0h24v24H0V0z\" fill=\"none\"/>\n",
              "    <path d=\"M18.56 5.44l.94 2.06.94-2.06 2.06-.94-2.06-.94-.94-2.06-.94 2.06-2.06.94zm-11 1L8.5 8.5l.94-2.06 2.06-.94-2.06-.94L8.5 2.5l-.94 2.06-2.06.94zm10 10l.94 2.06.94-2.06 2.06-.94-2.06-.94-.94-2.06-.94 2.06-2.06.94z\"/><path d=\"M17.41 7.96l-1.37-1.37c-.4-.4-.92-.59-1.43-.59-.52 0-1.04.2-1.43.59L10.3 9.45l-7.72 7.72c-.78.78-.78 2.05 0 2.83L4 21.41c.39.39.9.59 1.41.59.51 0 1.02-.2 1.41-.59l7.78-7.78 2.81-2.81c.8-.78.8-2.07 0-2.86zM5.41 20L4 18.59l7.72-7.72 1.47 1.35L5.41 20z\"/>\n",
              "  </svg>\n",
              "      </button>\n",
              "      \n",
              "  <style>\n",
              "    .colab-df-container {\n",
              "      display:flex;\n",
              "      flex-wrap:wrap;\n",
              "      gap: 12px;\n",
              "    }\n",
              "\n",
              "    .colab-df-convert {\n",
              "      background-color: #E8F0FE;\n",
              "      border: none;\n",
              "      border-radius: 50%;\n",
              "      cursor: pointer;\n",
              "      display: none;\n",
              "      fill: #1967D2;\n",
              "      height: 32px;\n",
              "      padding: 0 0 0 0;\n",
              "      width: 32px;\n",
              "    }\n",
              "\n",
              "    .colab-df-convert:hover {\n",
              "      background-color: #E2EBFA;\n",
              "      box-shadow: 0px 1px 2px rgba(60, 64, 67, 0.3), 0px 1px 3px 1px rgba(60, 64, 67, 0.15);\n",
              "      fill: #174EA6;\n",
              "    }\n",
              "\n",
              "    [theme=dark] .colab-df-convert {\n",
              "      background-color: #3B4455;\n",
              "      fill: #D2E3FC;\n",
              "    }\n",
              "\n",
              "    [theme=dark] .colab-df-convert:hover {\n",
              "      background-color: #434B5C;\n",
              "      box-shadow: 0px 1px 3px 1px rgba(0, 0, 0, 0.15);\n",
              "      filter: drop-shadow(0px 1px 2px rgba(0, 0, 0, 0.3));\n",
              "      fill: #FFFFFF;\n",
              "    }\n",
              "  </style>\n",
              "\n",
              "      <script>\n",
              "        const buttonEl =\n",
              "          document.querySelector('#df-b946f9e3-a936-40ce-9ac1-369698475d1b button.colab-df-convert');\n",
              "        buttonEl.style.display =\n",
              "          google.colab.kernel.accessAllowed ? 'block' : 'none';\n",
              "\n",
              "        async function convertToInteractive(key) {\n",
              "          const element = document.querySelector('#df-b946f9e3-a936-40ce-9ac1-369698475d1b');\n",
              "          const dataTable =\n",
              "            await google.colab.kernel.invokeFunction('convertToInteractive',\n",
              "                                                     [key], {});\n",
              "          if (!dataTable) return;\n",
              "\n",
              "          const docLinkHtml = 'Like what you see? Visit the ' +\n",
              "            '<a target=\"_blank\" href=https://colab.research.google.com/notebooks/data_table.ipynb>data table notebook</a>'\n",
              "            + ' to learn more about interactive tables.';\n",
              "          element.innerHTML = '';\n",
              "          dataTable['output_type'] = 'display_data';\n",
              "          await google.colab.output.renderOutput(dataTable, element);\n",
              "          const docLink = document.createElement('div');\n",
              "          docLink.innerHTML = docLinkHtml;\n",
              "          element.appendChild(docLink);\n",
              "        }\n",
              "      </script>\n",
              "    </div>\n",
              "  </div>\n",
              "  "
            ]
          },
          "metadata": {},
          "execution_count": 127
        }
      ]
    },
    {
      "cell_type": "code",
      "source": [
        "#### Contractions\n",
        "# contractions\n",
        "# neattext"
      ],
      "metadata": {
        "id": "dcRaFNssOJ9V"
      },
      "execution_count": null,
      "outputs": []
    },
    {
      "cell_type": "code",
      "source": [
        "s=\"I'm here y'all\""
      ],
      "metadata": {
        "id": "T53BWtSOONC_"
      },
      "execution_count": null,
      "outputs": []
    },
    {
      "cell_type": "code",
      "source": [
        "#import contractions\n",
        "#contractions.fix(s)\n"
      ],
      "metadata": {
        "id": "9tIIw7A1ONGN"
      },
      "execution_count": null,
      "outputs": []
    },
    {
      "cell_type": "code",
      "source": [
        "nfx.fix_contractions(s)"
      ],
      "metadata": {
        "colab": {
          "base_uri": "https://localhost:8080/",
          "height": 35
        },
        "id": "ft4X34HKONJg",
        "outputId": "9a108aba-f40a-4909-9f86-83f77afc132d"
      },
      "execution_count": null,
      "outputs": [
        {
          "output_type": "execute_result",
          "data": {
            "text/plain": [
              "'i am here you all'"
            ],
            "application/vnd.google.colaboratory.intrinsic+json": {
              "type": "string"
            }
          },
          "metadata": {},
          "execution_count": 131
        }
      ]
    },
    {
      "cell_type": "code",
      "source": [
        "# Extraction stopwords\n",
        "df['clean_Tweet'].apply(lambda x:nt.TextExtractor(x).extract_stopwords())"
      ],
      "metadata": {
        "colab": {
          "base_uri": "https://localhost:8080/"
        },
        "id": "BbYLuKFKONMp",
        "outputId": "ee5b5c52-dd5c-4daf-bfdc-de8316213534"
      },
      "execution_count": null,
      "outputs": [
        {
          "output_type": "execute_result",
          "data": {
            "text/plain": [
              "0        [with, their, a, of, is, now, just, from, alon...\n",
              "1         [has, no, to, about, you, at, the, the, us, has]\n",
              "2        [not, now, before, is, in, will, be, in, with,...\n",
              "3        [make, to, through, is, the, of, against, on, ...\n",
              "4                                                      [a]\n",
              "                               ...                        \n",
              "64391    [as, an, of, what, should, have, up, to, and, ...\n",
              "64392    [such, a, a, in, and, becomes, the, first, of,...\n",
              "64393                                     [used, to, with]\n",
              "64394    [were, mostly, as, over, in, off, by, over, us...\n",
              "64395                                                 [in]\n",
              "Name: clean_Tweet, Length: 64396, dtype: object"
            ]
          },
          "metadata": {},
          "execution_count": 132
        }
      ]
    },
    {
      "cell_type": "code",
      "source": [
        "# Remove stopwords\n",
        "# Method1  using TextFrame\n",
        "df['clean_Tweet'].apply(lambda x:nt.TextFrame(x).remove_stopwords())"
      ],
      "metadata": {
        "colab": {
          "base_uri": "https://localhost:8080/"
        },
        "id": "j7aHt0UWONP-",
        "outputId": "3a08c38f-c88e-4f38-aa92-cb41dd549e0a"
      },
      "execution_count": null,
      "outputs": [
        {
          "output_type": "execute_result",
          "data": {
            "text/plain": [
              "0        China shifted Covid 19 Policy lot growth poten...\n",
              "1        100 FACTSThe United States right cry mass shoo...\n",
              "2        Long Covid Endemic ChinaChina soon sync rest w...\n",
              "3        LETS EXTRA EFFO PULL Adaptation key characteri...\n",
              "4        China pide OMS imparcialidad sobre el Covid19h...\n",
              "                               ...                        \n",
              "64391    NorthKrugman cites New Zealands decision2aband...\n",
              "64392    crazy amp scary ass time 3 years ago today man...\n",
              "64393    China COVID19 win global favor propaganda aid ...\n",
              "64394    Asian shares higher Tuesday jitters protests C...\n",
              "64395    Asia China covid19 restrictions Protests turn ...\n",
              "Name: clean_Tweet, Length: 64396, dtype: object"
            ]
          },
          "metadata": {},
          "execution_count": 133
        }
      ]
    },
    {
      "cell_type": "code",
      "source": [
        "# Remove stopwords\n",
        "# Method2  using Neattext.Functions\n",
        "df['clean_Tweet']=df['clean_Tweet'].apply(nfx.remove_stopwords)"
      ],
      "metadata": {
        "id": "z4RUIZ5RONTE"
      },
      "execution_count": null,
      "outputs": []
    },
    {
      "cell_type": "code",
      "source": [
        "df['clean_Tweet']"
      ],
      "metadata": {
        "colab": {
          "base_uri": "https://localhost:8080/"
        },
        "id": "0NzYo6ImONV4",
        "outputId": "b474db46-1818-4eff-d986-0562fcf9ede0"
      },
      "execution_count": null,
      "outputs": [
        {
          "output_type": "execute_result",
          "data": {
            "text/plain": [
              "0        China shifted Covid 19 Policy lot growth poten...\n",
              "1        100 FACTSThe United States right cry mass shoo...\n",
              "2        Long Covid Endemic ChinaChina soon sync rest w...\n",
              "3        LETS EXTRA EFFO PULL Adaptation key characteri...\n",
              "4        China pide OMS imparcialidad sobre el Covid19h...\n",
              "                               ...                        \n",
              "64391    NorthKrugman cites New Zealands decision2aband...\n",
              "64392    crazy amp scary ass time 3 years ago today man...\n",
              "64393    China COVID19 win global favor propaganda aid ...\n",
              "64394    Asian shares higher Tuesday jitters protests C...\n",
              "64395    Asia China covid19 restrictions Protests turn ...\n",
              "Name: clean_Tweet, Length: 64396, dtype: object"
            ]
          },
          "metadata": {},
          "execution_count": 135
        }
      ]
    },
    {
      "cell_type": "code",
      "source": [
        "df['clean_Tweet'].apply(lambda x: nt.TextFrame(x).noise_scan()['text_noise'])"
      ],
      "metadata": {
        "colab": {
          "base_uri": "https://localhost:8080/"
        },
        "id": "h5Y6ZEMNY4k6",
        "outputId": "b15bbd02-bc2b-48a5-caf9-189713648dc7"
      },
      "execution_count": null,
      "outputs": [
        {
          "output_type": "execute_result",
          "data": {
            "text/plain": [
              "0        0\n",
              "1        0\n",
              "2        0\n",
              "3        0\n",
              "4        0\n",
              "        ..\n",
              "64391    0\n",
              "64392    0\n",
              "64393    0\n",
              "64394    0\n",
              "64395    0\n",
              "Name: clean_Tweet, Length: 64396, dtype: int64"
            ]
          },
          "metadata": {},
          "execution_count": 136
        }
      ]
    },
    {
      "cell_type": "code",
      "source": [
        "df.head()"
      ],
      "metadata": {
        "colab": {
          "base_uri": "https://localhost:8080/",
          "height": 623
        },
        "id": "6LOLHE6oY4n5",
        "outputId": "2be3e551-832f-458c-b9ae-8c97bdc0f097"
      },
      "execution_count": null,
      "outputs": [
        {
          "output_type": "execute_result",
          "data": {
            "text/plain": [
              "                                               Tweet  \\\n",
              "0  With China shifted their Covid 19 Policy, a lo...   \n",
              "1  @SpiritofHo 100% FACTS.\\n\\nThe United States h...   \n",
              "2  Not Long Now Before Covid is Endemic in China\\...   \n",
              "3  LET’S MAKE EXTRA EFFORT TO PULL THROUGH Adapta...   \n",
              "4  China pide a OMS imparcialidad sobre el Covid-...   \n",
              "\n",
              "                        Date             User    userhandles  \\\n",
              "0  2023-01-09 23:55:12+00:00    aldotjahjadi8             []   \n",
              "1  2023-01-09 23:52:06+00:00  KarenDa29372310  [@SpiritofHo]   \n",
              "2  2023-01-09 23:51:07+00:00         typo_cat             []   \n",
              "3  2023-01-09 23:51:03+00:00      THISDAYLIVE             []   \n",
              "4  2023-01-09 23:48:53+00:00     Apont3Andr3s             []   \n",
              "\n",
              "                                         clean_Tweet  \n",
              "0  China shifted Covid 19 Policy lot growth poten...  \n",
              "1  100 FACTSThe United States right cry mass shoo...  \n",
              "2  Long Covid Endemic ChinaChina soon sync rest w...  \n",
              "3  LETS EXTRA EFFO PULL Adaptation key characteri...  \n",
              "4  China pide OMS imparcialidad sobre el Covid19h...  "
            ],
            "text/html": [
              "\n",
              "  <div id=\"df-d3bf592a-18f6-4ba3-8031-7438b680cb30\">\n",
              "    <div class=\"colab-df-container\">\n",
              "      <div>\n",
              "<style scoped>\n",
              "    .dataframe tbody tr th:only-of-type {\n",
              "        vertical-align: middle;\n",
              "    }\n",
              "\n",
              "    .dataframe tbody tr th {\n",
              "        vertical-align: top;\n",
              "    }\n",
              "\n",
              "    .dataframe thead th {\n",
              "        text-align: right;\n",
              "    }\n",
              "</style>\n",
              "<table border=\"1\" class=\"dataframe\">\n",
              "  <thead>\n",
              "    <tr style=\"text-align: right;\">\n",
              "      <th></th>\n",
              "      <th>Tweet</th>\n",
              "      <th>Date</th>\n",
              "      <th>User</th>\n",
              "      <th>userhandles</th>\n",
              "      <th>clean_Tweet</th>\n",
              "    </tr>\n",
              "  </thead>\n",
              "  <tbody>\n",
              "    <tr>\n",
              "      <th>0</th>\n",
              "      <td>With China shifted their Covid 19 Policy, a lo...</td>\n",
              "      <td>2023-01-09 23:55:12+00:00</td>\n",
              "      <td>aldotjahjadi8</td>\n",
              "      <td>[]</td>\n",
              "      <td>China shifted Covid 19 Policy lot growth poten...</td>\n",
              "    </tr>\n",
              "    <tr>\n",
              "      <th>1</th>\n",
              "      <td>@SpiritofHo 100% FACTS.\\n\\nThe United States h...</td>\n",
              "      <td>2023-01-09 23:52:06+00:00</td>\n",
              "      <td>KarenDa29372310</td>\n",
              "      <td>[@SpiritofHo]</td>\n",
              "      <td>100 FACTSThe United States right cry mass shoo...</td>\n",
              "    </tr>\n",
              "    <tr>\n",
              "      <th>2</th>\n",
              "      <td>Not Long Now Before Covid is Endemic in China\\...</td>\n",
              "      <td>2023-01-09 23:51:07+00:00</td>\n",
              "      <td>typo_cat</td>\n",
              "      <td>[]</td>\n",
              "      <td>Long Covid Endemic ChinaChina soon sync rest w...</td>\n",
              "    </tr>\n",
              "    <tr>\n",
              "      <th>3</th>\n",
              "      <td>LET’S MAKE EXTRA EFFORT TO PULL THROUGH Adapta...</td>\n",
              "      <td>2023-01-09 23:51:03+00:00</td>\n",
              "      <td>THISDAYLIVE</td>\n",
              "      <td>[]</td>\n",
              "      <td>LETS EXTRA EFFO PULL Adaptation key characteri...</td>\n",
              "    </tr>\n",
              "    <tr>\n",
              "      <th>4</th>\n",
              "      <td>China pide a OMS imparcialidad sobre el Covid-...</td>\n",
              "      <td>2023-01-09 23:48:53+00:00</td>\n",
              "      <td>Apont3Andr3s</td>\n",
              "      <td>[]</td>\n",
              "      <td>China pide OMS imparcialidad sobre el Covid19h...</td>\n",
              "    </tr>\n",
              "  </tbody>\n",
              "</table>\n",
              "</div>\n",
              "      <button class=\"colab-df-convert\" onclick=\"convertToInteractive('df-d3bf592a-18f6-4ba3-8031-7438b680cb30')\"\n",
              "              title=\"Convert this dataframe to an interactive table.\"\n",
              "              style=\"display:none;\">\n",
              "        \n",
              "  <svg xmlns=\"http://www.w3.org/2000/svg\" height=\"24px\"viewBox=\"0 0 24 24\"\n",
              "       width=\"24px\">\n",
              "    <path d=\"M0 0h24v24H0V0z\" fill=\"none\"/>\n",
              "    <path d=\"M18.56 5.44l.94 2.06.94-2.06 2.06-.94-2.06-.94-.94-2.06-.94 2.06-2.06.94zm-11 1L8.5 8.5l.94-2.06 2.06-.94-2.06-.94L8.5 2.5l-.94 2.06-2.06.94zm10 10l.94 2.06.94-2.06 2.06-.94-2.06-.94-.94-2.06-.94 2.06-2.06.94z\"/><path d=\"M17.41 7.96l-1.37-1.37c-.4-.4-.92-.59-1.43-.59-.52 0-1.04.2-1.43.59L10.3 9.45l-7.72 7.72c-.78.78-.78 2.05 0 2.83L4 21.41c.39.39.9.59 1.41.59.51 0 1.02-.2 1.41-.59l7.78-7.78 2.81-2.81c.8-.78.8-2.07 0-2.86zM5.41 20L4 18.59l7.72-7.72 1.47 1.35L5.41 20z\"/>\n",
              "  </svg>\n",
              "      </button>\n",
              "      \n",
              "  <style>\n",
              "    .colab-df-container {\n",
              "      display:flex;\n",
              "      flex-wrap:wrap;\n",
              "      gap: 12px;\n",
              "    }\n",
              "\n",
              "    .colab-df-convert {\n",
              "      background-color: #E8F0FE;\n",
              "      border: none;\n",
              "      border-radius: 50%;\n",
              "      cursor: pointer;\n",
              "      display: none;\n",
              "      fill: #1967D2;\n",
              "      height: 32px;\n",
              "      padding: 0 0 0 0;\n",
              "      width: 32px;\n",
              "    }\n",
              "\n",
              "    .colab-df-convert:hover {\n",
              "      background-color: #E2EBFA;\n",
              "      box-shadow: 0px 1px 2px rgba(60, 64, 67, 0.3), 0px 1px 3px 1px rgba(60, 64, 67, 0.15);\n",
              "      fill: #174EA6;\n",
              "    }\n",
              "\n",
              "    [theme=dark] .colab-df-convert {\n",
              "      background-color: #3B4455;\n",
              "      fill: #D2E3FC;\n",
              "    }\n",
              "\n",
              "    [theme=dark] .colab-df-convert:hover {\n",
              "      background-color: #434B5C;\n",
              "      box-shadow: 0px 1px 3px 1px rgba(0, 0, 0, 0.15);\n",
              "      filter: drop-shadow(0px 1px 2px rgba(0, 0, 0, 0.3));\n",
              "      fill: #FFFFFF;\n",
              "    }\n",
              "  </style>\n",
              "\n",
              "      <script>\n",
              "        const buttonEl =\n",
              "          document.querySelector('#df-d3bf592a-18f6-4ba3-8031-7438b680cb30 button.colab-df-convert');\n",
              "        buttonEl.style.display =\n",
              "          google.colab.kernel.accessAllowed ? 'block' : 'none';\n",
              "\n",
              "        async function convertToInteractive(key) {\n",
              "          const element = document.querySelector('#df-d3bf592a-18f6-4ba3-8031-7438b680cb30');\n",
              "          const dataTable =\n",
              "            await google.colab.kernel.invokeFunction('convertToInteractive',\n",
              "                                                     [key], {});\n",
              "          if (!dataTable) return;\n",
              "\n",
              "          const docLinkHtml = 'Like what you see? Visit the ' +\n",
              "            '<a target=\"_blank\" href=https://colab.research.google.com/notebooks/data_table.ipynb>data table notebook</a>'\n",
              "            + ' to learn more about interactive tables.';\n",
              "          element.innerHTML = '';\n",
              "          dataTable['output_type'] = 'display_data';\n",
              "          await google.colab.output.renderOutput(dataTable, element);\n",
              "          const docLink = document.createElement('div');\n",
              "          docLink.innerHTML = docLinkHtml;\n",
              "          element.appendChild(docLink);\n",
              "        }\n",
              "      </script>\n",
              "    </div>\n",
              "  </div>\n",
              "  "
            ]
          },
          "metadata": {},
          "execution_count": 137
        }
      ]
    },
    {
      "cell_type": "code",
      "source": [
        "df=df.drop(['Tweet','userhandles'],axis=1)"
      ],
      "metadata": {
        "id": "Zn-7V38QzgXm"
      },
      "execution_count": null,
      "outputs": []
    },
    {
      "cell_type": "code",
      "source": [
        "df.head()"
      ],
      "metadata": {
        "colab": {
          "base_uri": "https://localhost:8080/",
          "height": 206
        },
        "id": "Mb3Q5Qu90as4",
        "outputId": "61cf39f9-6dfa-4e67-9447-52774952a32f"
      },
      "execution_count": null,
      "outputs": [
        {
          "output_type": "execute_result",
          "data": {
            "text/plain": [
              "                        Date             User  \\\n",
              "0  2023-01-09 23:55:12+00:00    aldotjahjadi8   \n",
              "1  2023-01-09 23:52:06+00:00  KarenDa29372310   \n",
              "2  2023-01-09 23:51:07+00:00         typo_cat   \n",
              "3  2023-01-09 23:51:03+00:00      THISDAYLIVE   \n",
              "4  2023-01-09 23:48:53+00:00     Apont3Andr3s   \n",
              "\n",
              "                                         clean_Tweet  \n",
              "0  China shifted Covid 19 Policy lot growth poten...  \n",
              "1  100 FACTSThe United States right cry mass shoo...  \n",
              "2  Long Covid Endemic ChinaChina soon sync rest w...  \n",
              "3  LETS EXTRA EFFO PULL Adaptation key characteri...  \n",
              "4  China pide OMS imparcialidad sobre el Covid19h...  "
            ],
            "text/html": [
              "\n",
              "  <div id=\"df-6bcfad3d-9b10-4f85-85a0-35895b2fe4e1\">\n",
              "    <div class=\"colab-df-container\">\n",
              "      <div>\n",
              "<style scoped>\n",
              "    .dataframe tbody tr th:only-of-type {\n",
              "        vertical-align: middle;\n",
              "    }\n",
              "\n",
              "    .dataframe tbody tr th {\n",
              "        vertical-align: top;\n",
              "    }\n",
              "\n",
              "    .dataframe thead th {\n",
              "        text-align: right;\n",
              "    }\n",
              "</style>\n",
              "<table border=\"1\" class=\"dataframe\">\n",
              "  <thead>\n",
              "    <tr style=\"text-align: right;\">\n",
              "      <th></th>\n",
              "      <th>Date</th>\n",
              "      <th>User</th>\n",
              "      <th>clean_Tweet</th>\n",
              "    </tr>\n",
              "  </thead>\n",
              "  <tbody>\n",
              "    <tr>\n",
              "      <th>0</th>\n",
              "      <td>2023-01-09 23:55:12+00:00</td>\n",
              "      <td>aldotjahjadi8</td>\n",
              "      <td>China shifted Covid 19 Policy lot growth poten...</td>\n",
              "    </tr>\n",
              "    <tr>\n",
              "      <th>1</th>\n",
              "      <td>2023-01-09 23:52:06+00:00</td>\n",
              "      <td>KarenDa29372310</td>\n",
              "      <td>100 FACTSThe United States right cry mass shoo...</td>\n",
              "    </tr>\n",
              "    <tr>\n",
              "      <th>2</th>\n",
              "      <td>2023-01-09 23:51:07+00:00</td>\n",
              "      <td>typo_cat</td>\n",
              "      <td>Long Covid Endemic ChinaChina soon sync rest w...</td>\n",
              "    </tr>\n",
              "    <tr>\n",
              "      <th>3</th>\n",
              "      <td>2023-01-09 23:51:03+00:00</td>\n",
              "      <td>THISDAYLIVE</td>\n",
              "      <td>LETS EXTRA EFFO PULL Adaptation key characteri...</td>\n",
              "    </tr>\n",
              "    <tr>\n",
              "      <th>4</th>\n",
              "      <td>2023-01-09 23:48:53+00:00</td>\n",
              "      <td>Apont3Andr3s</td>\n",
              "      <td>China pide OMS imparcialidad sobre el Covid19h...</td>\n",
              "    </tr>\n",
              "  </tbody>\n",
              "</table>\n",
              "</div>\n",
              "      <button class=\"colab-df-convert\" onclick=\"convertToInteractive('df-6bcfad3d-9b10-4f85-85a0-35895b2fe4e1')\"\n",
              "              title=\"Convert this dataframe to an interactive table.\"\n",
              "              style=\"display:none;\">\n",
              "        \n",
              "  <svg xmlns=\"http://www.w3.org/2000/svg\" height=\"24px\"viewBox=\"0 0 24 24\"\n",
              "       width=\"24px\">\n",
              "    <path d=\"M0 0h24v24H0V0z\" fill=\"none\"/>\n",
              "    <path d=\"M18.56 5.44l.94 2.06.94-2.06 2.06-.94-2.06-.94-.94-2.06-.94 2.06-2.06.94zm-11 1L8.5 8.5l.94-2.06 2.06-.94-2.06-.94L8.5 2.5l-.94 2.06-2.06.94zm10 10l.94 2.06.94-2.06 2.06-.94-2.06-.94-.94-2.06-.94 2.06-2.06.94z\"/><path d=\"M17.41 7.96l-1.37-1.37c-.4-.4-.92-.59-1.43-.59-.52 0-1.04.2-1.43.59L10.3 9.45l-7.72 7.72c-.78.78-.78 2.05 0 2.83L4 21.41c.39.39.9.59 1.41.59.51 0 1.02-.2 1.41-.59l7.78-7.78 2.81-2.81c.8-.78.8-2.07 0-2.86zM5.41 20L4 18.59l7.72-7.72 1.47 1.35L5.41 20z\"/>\n",
              "  </svg>\n",
              "      </button>\n",
              "      \n",
              "  <style>\n",
              "    .colab-df-container {\n",
              "      display:flex;\n",
              "      flex-wrap:wrap;\n",
              "      gap: 12px;\n",
              "    }\n",
              "\n",
              "    .colab-df-convert {\n",
              "      background-color: #E8F0FE;\n",
              "      border: none;\n",
              "      border-radius: 50%;\n",
              "      cursor: pointer;\n",
              "      display: none;\n",
              "      fill: #1967D2;\n",
              "      height: 32px;\n",
              "      padding: 0 0 0 0;\n",
              "      width: 32px;\n",
              "    }\n",
              "\n",
              "    .colab-df-convert:hover {\n",
              "      background-color: #E2EBFA;\n",
              "      box-shadow: 0px 1px 2px rgba(60, 64, 67, 0.3), 0px 1px 3px 1px rgba(60, 64, 67, 0.15);\n",
              "      fill: #174EA6;\n",
              "    }\n",
              "\n",
              "    [theme=dark] .colab-df-convert {\n",
              "      background-color: #3B4455;\n",
              "      fill: #D2E3FC;\n",
              "    }\n",
              "\n",
              "    [theme=dark] .colab-df-convert:hover {\n",
              "      background-color: #434B5C;\n",
              "      box-shadow: 0px 1px 3px 1px rgba(0, 0, 0, 0.15);\n",
              "      filter: drop-shadow(0px 1px 2px rgba(0, 0, 0, 0.3));\n",
              "      fill: #FFFFFF;\n",
              "    }\n",
              "  </style>\n",
              "\n",
              "      <script>\n",
              "        const buttonEl =\n",
              "          document.querySelector('#df-6bcfad3d-9b10-4f85-85a0-35895b2fe4e1 button.colab-df-convert');\n",
              "        buttonEl.style.display =\n",
              "          google.colab.kernel.accessAllowed ? 'block' : 'none';\n",
              "\n",
              "        async function convertToInteractive(key) {\n",
              "          const element = document.querySelector('#df-6bcfad3d-9b10-4f85-85a0-35895b2fe4e1');\n",
              "          const dataTable =\n",
              "            await google.colab.kernel.invokeFunction('convertToInteractive',\n",
              "                                                     [key], {});\n",
              "          if (!dataTable) return;\n",
              "\n",
              "          const docLinkHtml = 'Like what you see? Visit the ' +\n",
              "            '<a target=\"_blank\" href=https://colab.research.google.com/notebooks/data_table.ipynb>data table notebook</a>'\n",
              "            + ' to learn more about interactive tables.';\n",
              "          element.innerHTML = '';\n",
              "          dataTable['output_type'] = 'display_data';\n",
              "          await google.colab.output.renderOutput(dataTable, element);\n",
              "          const docLink = document.createElement('div');\n",
              "          docLink.innerHTML = docLinkHtml;\n",
              "          element.appendChild(docLink);\n",
              "        }\n",
              "      </script>\n",
              "    </div>\n",
              "  </div>\n",
              "  "
            ]
          },
          "metadata": {},
          "execution_count": 140
        }
      ]
    },
    {
      "cell_type": "code",
      "source": [
        "df.to_csv('tweet_clean111.csv')"
      ],
      "metadata": {
        "id": "7hppxFrxY4rc"
      },
      "execution_count": null,
      "outputs": []
    },
    {
      "cell_type": "code",
      "source": [],
      "metadata": {
        "id": "j1NDHFTDY4uv"
      },
      "execution_count": null,
      "outputs": []
    },
    {
      "cell_type": "code",
      "source": [],
      "metadata": {
        "id": "Ev98kqjAY4xj"
      },
      "execution_count": null,
      "outputs": []
    },
    {
      "cell_type": "code",
      "source": [],
      "metadata": {
        "id": "Kbw-yNVxY40z"
      },
      "execution_count": null,
      "outputs": []
    },
    {
      "cell_type": "code",
      "source": [],
      "metadata": {
        "id": "inKPkWfhY43g"
      },
      "execution_count": null,
      "outputs": []
    }
  ]
}